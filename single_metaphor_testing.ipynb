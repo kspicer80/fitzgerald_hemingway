{
 "cells": [
  {
   "cell_type": "code",
   "execution_count": 4,
   "metadata": {},
   "outputs": [],
   "source": [
    "from transformers import AutoTokenizer, AutoModelForTokenClassification\n",
    "from transformers import pipeline\n",
    "\n",
    "label_list = ['literal', 'metaphoric']\n",
    "label_dict_relations = {i: l for i, l in enumerate(label_list)}\n",
    "\n",
    "model = AutoModelForTokenClassification.from_pretrained(\"lwachowiak/Metaphor-Detection-XLMR\")\n",
    "tokenizer = AutoTokenizer.from_pretrained(\"lwachowiak/Metaphor-Detection-XLMR\")\n",
    "metaphor_pipeline = pipeline(\"ner\", model=model, tokenizer=tokenizer, aggregation_strategy=\"simple\")\n",
    "\n",
    "def count_label_1(entities):\n",
    "    count = 0\n",
    "    for entity in entities:\n",
    "        if entity['entity_group'] == 'LABEL_1':\n",
    "            count += 1\n",
    "    return count"
   ]
  },
  {
   "cell_type": "code",
   "execution_count": 5,
   "metadata": {},
   "outputs": [
    {
     "data": {
      "text/plain": [
       "5"
      ]
     },
     "execution_count": 5,
     "metadata": {},
     "output_type": "execute_result"
    }
   ],
   "source": [
    "test_sentence = \"With the same object, she would sing, just above her breath, when he opened his eyes, or she saw his brow knit into that faint expression, so evanescent that it was like a shape made in water.\"\n",
    "\n",
    "count_em = metaphor_pipeline(test_sentence)\n",
    "yes_or_no = count_label_1(count_em)\n",
    "yes_or_no"
   ]
  },
  {
   "cell_type": "code",
   "execution_count": 6,
   "metadata": {},
   "outputs": [
    {
     "data": {
      "text/plain": [
       "[{'entity_group': 'LABEL_1',\n",
       "  'score': 0.5541184,\n",
       "  'word': 'With',\n",
       "  'start': 0,\n",
       "  'end': 4},\n",
       " {'entity_group': 'LABEL_0',\n",
       "  'score': 0.9999771,\n",
       "  'word': 'the same object, she would sing, just',\n",
       "  'start': 5,\n",
       "  'end': 42},\n",
       " {'entity_group': 'LABEL_1',\n",
       "  'score': 0.9984861,\n",
       "  'word': 'above',\n",
       "  'start': 43,\n",
       "  'end': 48},\n",
       " {'entity_group': 'LABEL_0',\n",
       "  'score': 0.999767,\n",
       "  'word': 'her breath, when he opened his eyes, or she saw his brow',\n",
       "  'start': 49,\n",
       "  'end': 105},\n",
       " {'entity_group': 'LABEL_1',\n",
       "  'score': 0.92676467,\n",
       "  'word': 'knit into that faint',\n",
       "  'start': 106,\n",
       "  'end': 126},\n",
       " {'entity_group': 'LABEL_0',\n",
       "  'score': 0.99999,\n",
       "  'word': 'expression, so',\n",
       "  'start': 127,\n",
       "  'end': 141},\n",
       " {'entity_group': 'LABEL_1',\n",
       "  'score': 0.86919314,\n",
       "  'word': 'evanescent',\n",
       "  'start': 142,\n",
       "  'end': 152},\n",
       " {'entity_group': 'LABEL_0',\n",
       "  'score': 0.99980474,\n",
       "  'word': 'that it was like a shape',\n",
       "  'start': 153,\n",
       "  'end': 177},\n",
       " {'entity_group': 'LABEL_1',\n",
       "  'score': 0.99816626,\n",
       "  'word': 'made in water',\n",
       "  'start': 178,\n",
       "  'end': 191},\n",
       " {'entity_group': 'LABEL_0',\n",
       "  'score': 0.9999931,\n",
       "  'word': '.',\n",
       "  'start': 191,\n",
       "  'end': 192}]"
      ]
     },
     "execution_count": 6,
     "metadata": {},
     "output_type": "execute_result"
    }
   ],
   "source": [
    "count_em"
   ]
  },
  {
   "cell_type": "code",
   "execution_count": null,
   "metadata": {},
   "outputs": [],
   "source": []
  }
 ],
 "metadata": {
  "kernelspec": {
   "display_name": "base",
   "language": "python",
   "name": "python3"
  },
  "language_info": {
   "codemirror_mode": {
    "name": "ipython",
    "version": 3
   },
   "file_extension": ".py",
   "mimetype": "text/x-python",
   "name": "python",
   "nbconvert_exporter": "python",
   "pygments_lexer": "ipython3",
   "version": "3.9.12"
  },
  "orig_nbformat": 4,
  "vscode": {
   "interpreter": {
    "hash": "19e56c70b3071a7c9e5271d6c05d63446be4cb37f733ae995dda36f1f67e797e"
   }
  }
 },
 "nbformat": 4,
 "nbformat_minor": 2
}
