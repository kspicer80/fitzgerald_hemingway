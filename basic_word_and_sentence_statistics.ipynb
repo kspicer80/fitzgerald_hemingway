{
 "cells": [
  {
   "cell_type": "code",
   "execution_count": 6,
   "metadata": {},
   "outputs": [],
   "source": [
    "import pandas as pd\n",
    "import spacy\n",
    "nlp = spacy.load('en_core_web_lg')"
   ]
  },
  {
   "cell_type": "code",
   "execution_count": 7,
   "metadata": {},
   "outputs": [],
   "source": [
    "import os\n",
    "\n",
    "def load_data(folder_path):\n",
    "    root_folder = folder_path\n",
    "\n",
    "    #filenames = []\n",
    "    text_data = [] # Replace with the text data\n",
    "    labels = [] # Replace with the corresponding labels (0 or 1)\n",
    "\n",
    "    for subfolder in os.listdir(root_folder):\n",
    "        subfolder_path = os.path.join(root_folder, subfolder)\n",
    "\n",
    "        if subfolder == 'fitzgerald':\n",
    "            label = 0\n",
    "        else:\n",
    "            label = 1\n",
    "\n",
    "        for file in os.listdir(subfolder_path):\n",
    "            file_path = os.path.join(subfolder_path, file)\n",
    "            print(\"Processing file:\", file)\n",
    "            with open(file_path, 'r', encoding=\"utf-8\") as f:\n",
    "                text = f.read()\n",
    "            #filenames.append(file_path)\n",
    "            text_data.append(text)\n",
    "            labels.append(label)\n",
    "    return text_data, labels"
   ]
  },
  {
   "cell_type": "code",
   "execution_count": 8,
   "metadata": {},
   "outputs": [
    {
     "name": "stdout",
     "output_type": "stream",
     "text": [
      "Processing file: fitzgerald_all_the_sad.txt\n",
      "Processing file: fitzgerald_bablyon_revisited.txt\n",
      "Processing file: fitzgerald_beautiful_and_damned.txt\n",
      "Processing file: fitzgerald_flappers_and_philosophers.txt\n",
      "Processing file: fitzgerald_gatsby.txt\n",
      "Processing file: fitzgerald_tales_jazz_age.txt\n",
      "Processing file: fitzgerald_tender_is.txt\n",
      "Processing file: fitzgerald_the_vegtable.txt\n",
      "Processing file: fitzgerald_this_side.txt\n",
      "Processing file: hemingway_across_the_river.txt\n",
      "Processing file: hemingway_bell_tolls.txt\n",
      "Processing file: hemingway_farewell.txt\n",
      "Processing file: hemingway_green_hills_africa.txt\n",
      "Processing file: hemingway_in_our_time.txt\n",
      "Processing file: hemingway_men_without_women.txt\n",
      "Processing file: hemingway_old_man.txt\n",
      "Processing file: hemingway_sun_also.txt\n",
      "Processing file: hemingway_three_stories_ten_poems.txt\n",
      "Processing file: hemingway_winner_take_nothing.txt\n"
     ]
    }
   ],
   "source": [
    "text_data, labels = load_data('data')"
   ]
  },
  {
   "cell_type": "code",
   "execution_count": 15,
   "metadata": {},
   "outputs": [
    {
     "data": {
      "text/html": [
       "<div>\n",
       "<style scoped>\n",
       "    .dataframe tbody tr th:only-of-type {\n",
       "        vertical-align: middle;\n",
       "    }\n",
       "\n",
       "    .dataframe tbody tr th {\n",
       "        vertical-align: top;\n",
       "    }\n",
       "\n",
       "    .dataframe thead th {\n",
       "        text-align: right;\n",
       "    }\n",
       "</style>\n",
       "<table border=\"1\" class=\"dataframe\">\n",
       "  <thead>\n",
       "    <tr style=\"text-align: right;\">\n",
       "      <th></th>\n",
       "      <th>text_data</th>\n",
       "      <th>labels</th>\n",
       "    </tr>\n",
       "  </thead>\n",
       "  <tbody>\n",
       "    <tr>\n",
       "      <th>0</th>\n",
       "      <td>THE RICH BOY\\n\\n\\nBegin with an individual, an...</td>\n",
       "      <td>0</td>\n",
       "    </tr>\n",
       "    <tr>\n",
       "      <th>1</th>\n",
       "      <td>\"And where's Mr. Campbell?\" Charlie asked.\\n\\n...</td>\n",
       "      <td>0</td>\n",
       "    </tr>\n",
       "    <tr>\n",
       "      <th>2</th>\n",
       "      <td>CONTENTS\\n\\n\\nBOOK ONE\\n\\n  I. ANTHONY PATCH\\n...</td>\n",
       "      <td>0</td>\n",
       "    </tr>\n",
       "    <tr>\n",
       "      <th>3</th>\n",
       "      <td>Flappers and Philosophers\\n\\n\\n\\n\\n\\nThe Offsh...</td>\n",
       "      <td>0</td>\n",
       "    </tr>\n",
       "    <tr>\n",
       "      <th>4</th>\n",
       "      <td>Then wear the gold hat, if that will move he...</td>\n",
       "      <td>0</td>\n",
       "    </tr>\n",
       "  </tbody>\n",
       "</table>\n",
       "</div>"
      ],
      "text/plain": [
       "                                           text_data  labels\n",
       "0  THE RICH BOY\\n\\n\\nBegin with an individual, an...       0\n",
       "1  \"And where's Mr. Campbell?\" Charlie asked.\\n\\n...       0\n",
       "2  CONTENTS\\n\\n\\nBOOK ONE\\n\\n  I. ANTHONY PATCH\\n...       0\n",
       "3  Flappers and Philosophers\\n\\n\\n\\n\\n\\nThe Offsh...       0\n",
       "4    Then wear the gold hat, if that will move he...       0"
      ]
     },
     "execution_count": 15,
     "metadata": {},
     "output_type": "execute_result"
    }
   ],
   "source": [
    "df = pd.DataFrame(list(zip(text_data, labels)))\n",
    "df= df.rename(columns={0: 'text_data', 1: 'labels'})\n",
    "df.head()"
   ]
  },
  {
   "cell_type": "code",
   "execution_count": 16,
   "metadata": {},
   "outputs": [],
   "source": [
    "def count_sentences_and_words_per_sentence(text):\n",
    "    doc = nlp(text)\n",
    "    num_sentences = len(list(doc.sents))\n",
    "    words_per_sentence = [len(list(sent)) for sent in doc.sents]\n",
    "    return num_sentences, words_per_sentence"
   ]
  },
  {
   "cell_type": "code",
   "execution_count": 17,
   "metadata": {},
   "outputs": [],
   "source": [
    "df[['num_sentences', 'words_per_sentence']] = df['text_data'].apply(lambda x: pd.Series(count_sentences_and_words_per_sentence(x)))"
   ]
  },
  {
   "cell_type": "code",
   "execution_count": 18,
   "metadata": {},
   "outputs": [
    {
     "data": {
      "text/html": [
       "<div>\n",
       "<style scoped>\n",
       "    .dataframe tbody tr th:only-of-type {\n",
       "        vertical-align: middle;\n",
       "    }\n",
       "\n",
       "    .dataframe tbody tr th {\n",
       "        vertical-align: top;\n",
       "    }\n",
       "\n",
       "    .dataframe thead th {\n",
       "        text-align: right;\n",
       "    }\n",
       "</style>\n",
       "<table border=\"1\" class=\"dataframe\">\n",
       "  <thead>\n",
       "    <tr style=\"text-align: right;\">\n",
       "      <th></th>\n",
       "      <th>text_data</th>\n",
       "      <th>labels</th>\n",
       "      <th>num_sentences</th>\n",
       "      <th>words_per_sentence</th>\n",
       "    </tr>\n",
       "  </thead>\n",
       "  <tbody>\n",
       "    <tr>\n",
       "      <th>0</th>\n",
       "      <td>THE RICH BOY\\n\\n\\nBegin with an individual, an...</td>\n",
       "      <td>0</td>\n",
       "      <td>4047</td>\n",
       "      <td>[40, 30, 62, 8, 18, 18, 63, 25, 9, 9, 49, 31, ...</td>\n",
       "    </tr>\n",
       "    <tr>\n",
       "      <th>1</th>\n",
       "      <td>\"And where's Mr. Campbell?\" Charlie asked.\\n\\n...</td>\n",
       "      <td>0</td>\n",
       "      <td>548</td>\n",
       "      <td>[8, 4, 5, 11, 10, 5, 4, 9, 20, 12, 17, 14, 15,...</td>\n",
       "    </tr>\n",
       "    <tr>\n",
       "      <th>2</th>\n",
       "      <td>CONTENTS\\n\\n\\nBOOK ONE\\n\\n  I. ANTHONY PATCH\\n...</td>\n",
       "      <td>0</td>\n",
       "      <td>7639</td>\n",
       "      <td>[11, 7, 9, 6, 4, 15, 7, 52, 45, 85, 25, 49, 67...</td>\n",
       "    </tr>\n",
       "    <tr>\n",
       "      <th>3</th>\n",
       "      <td>Flappers and Philosophers\\n\\n\\n\\n\\n\\nThe Offsh...</td>\n",
       "      <td>0</td>\n",
       "      <td>3860</td>\n",
       "      <td>[10, 37, 63, 63, 26, 39, 29, 33, 67, 35, 19, 3...</td>\n",
       "    </tr>\n",
       "    <tr>\n",
       "      <th>4</th>\n",
       "      <td>Then wear the gold hat, if that will move he...</td>\n",
       "      <td>0</td>\n",
       "      <td>2894</td>\n",
       "      <td>[82, 71, 37, 56, 69, 10, 42, 22, 30, 46, 34, 5...</td>\n",
       "    </tr>\n",
       "  </tbody>\n",
       "</table>\n",
       "</div>"
      ],
      "text/plain": [
       "                                           text_data  labels  num_sentences  \\\n",
       "0  THE RICH BOY\\n\\n\\nBegin with an individual, an...       0           4047   \n",
       "1  \"And where's Mr. Campbell?\" Charlie asked.\\n\\n...       0            548   \n",
       "2  CONTENTS\\n\\n\\nBOOK ONE\\n\\n  I. ANTHONY PATCH\\n...       0           7639   \n",
       "3  Flappers and Philosophers\\n\\n\\n\\n\\n\\nThe Offsh...       0           3860   \n",
       "4    Then wear the gold hat, if that will move he...       0           2894   \n",
       "\n",
       "                                  words_per_sentence  \n",
       "0  [40, 30, 62, 8, 18, 18, 63, 25, 9, 9, 49, 31, ...  \n",
       "1  [8, 4, 5, 11, 10, 5, 4, 9, 20, 12, 17, 14, 15,...  \n",
       "2  [11, 7, 9, 6, 4, 15, 7, 52, 45, 85, 25, 49, 67...  \n",
       "3  [10, 37, 63, 63, 26, 39, 29, 33, 67, 35, 19, 3...  \n",
       "4  [82, 71, 37, 56, 69, 10, 42, 22, 30, 46, 34, 5...  "
      ]
     },
     "execution_count": 18,
     "metadata": {},
     "output_type": "execute_result"
    }
   ],
   "source": [
    "df.head()"
   ]
  },
  {
   "cell_type": "code",
   "execution_count": 27,
   "metadata": {},
   "outputs": [
    {
     "name": "stderr",
     "output_type": "stream",
     "text": [
      "C:\\Users\\KSpicer\\AppData\\Local\\Temp\\ipykernel_9100\\3312758715.py:10: FutureWarning: The default value of numeric_only in DataFrameGroupBy.mean is deprecated. In a future version, numeric_only will default to False. Either specify numeric_only or select only columns which should be valid for the function.\n",
      "  grouped = df.groupby('labels').mean()\n"
     ]
    },
    {
     "data": {
      "image/png": "[encoded data removed]",
      "text/plain": [
       "<Figure size 640x480 with 1 Axes>"
      ]
     },
     "metadata": {},
     "output_type": "display_data"
    }
   ],
   "source": [
    "import matplotlib.pyplot as plt\n",
    "\n",
    "# calculate the mean of the 'words_per_sentence' list\n",
    "#df['mean_words_per_sentence'] = df['words_per_sentence'].apply(lambda x: sum(x)/len(x))\n",
    "\n",
    "# calculate the mean sentence length\n",
    "df['mean_sentence_length'] = df['words_per_sentence'].apply(lambda x: sum(x)/len(df))\n",
    "\n",
    "# group by 'label' and calculate the means of 'num_sentences', 'mean_words_per_sentence', and 'mean_sentence_length'\n",
    "grouped = df.groupby('labels').mean()\n",
    "\n",
    "# create a bar plot of the means\n",
    "grouped.plot(kind='bar')\n",
    "plt.title('Averages of Sentences and Words per Sentence by Label')\n",
    "plt.xlabel('Label')\n",
    "plt.ylabel('Average')\n",
    "plt.show()"
   ]
  },
  {
   "cell_type": "code",
   "execution_count": 20,
   "metadata": {},
   "outputs": [
    {
     "name": "stderr",
     "output_type": "stream",
     "text": [
      "C:\\Users\\KSpicer\\AppData\\Local\\Temp\\ipykernel_9100\\2836893034.py:2: FutureWarning: The default value of numeric_only in DataFrameGroupBy.mean is deprecated. In a future version, numeric_only will default to False. Either specify numeric_only or select only columns which should be valid for the function.\n",
      "  grouped = df.groupby('labels').mean()\n"
     ]
    },
    {
     "data": {
      "image/png": "[encoded data removed]",
      "text/plain": [
       "<Figure size 640x480 with 1 Axes>"
      ]
     },
     "metadata": {},
     "output_type": "display_data"
    }
   ],
   "source": [
    "import matplotlib.pyplot as plt\n",
    "grouped = df.groupby('labels').mean()\n",
    "\n",
    "# create a bar plot of the means\n",
    "grouped.plot(kind='bar')\n",
    "plt.title('Averages of Sentences and Words per Sentence by Label')\n",
    "plt.xlabel('Label')\n",
    "plt.ylabel('Average')\n",
    "plt.show()"
   ]
  },
  {
   "cell_type": "code",
   "execution_count": 30,
   "metadata": {},
   "outputs": [
    {
     "ename": "ValueError",
     "evalue": "too many values to unpack (expected 2)",
     "output_type": "error",
     "traceback": [
      "\u001b[1;31m---------------------------------------------------------------------------\u001b[0m",
      "\u001b[1;31mValueError\u001b[0m                                Traceback (most recent call last)",
      "Cell \u001b[1;32mIn [30], line 8\u001b[0m\n\u001b[0;32m      5\u001b[0m df[\u001b[39m'\u001b[39m\u001b[39mmean_words_per_sentence\u001b[39m\u001b[39m'\u001b[39m] \u001b[39m=\u001b[39m df[\u001b[39m'\u001b[39m\u001b[39mwords_per_sentence\u001b[39m\u001b[39m'\u001b[39m]\u001b[39m.\u001b[39mapply(\u001b[39mlambda\u001b[39;00m x: \u001b[39msum\u001b[39m(x)\u001b[39m/\u001b[39m\u001b[39mlen\u001b[39m(x))\n\u001b[0;32m      7\u001b[0m \u001b[39m# calculate the mean sentence length and mean words per sentence\u001b[39;00m\n\u001b[1;32m----> 8\u001b[0m df[\u001b[39m'\u001b[39m\u001b[39mmean_sentence_length\u001b[39m\u001b[39m'\u001b[39m], df[\u001b[39m'\u001b[39m\u001b[39mmean_words_per_sentence_v2\u001b[39m\u001b[39m'\u001b[39m] \u001b[39m=\u001b[39m df\u001b[39m.\u001b[39mapply(\u001b[39mlambda\u001b[39;00m x: (\u001b[39msum\u001b[39m(x[\u001b[39m'\u001b[39m\u001b[39mwords_per_sentence\u001b[39m\u001b[39m'\u001b[39m])\u001b[39m/\u001b[39mx[\u001b[39m'\u001b[39m\u001b[39mnum_sentences\u001b[39m\u001b[39m'\u001b[39m], \u001b[39msum\u001b[39m(x[\u001b[39m'\u001b[39m\u001b[39mwords_per_sentence\u001b[39m\u001b[39m'\u001b[39m])\u001b[39m/\u001b[39m\u001b[39mlen\u001b[39m(x[\u001b[39m'\u001b[39m\u001b[39mwords_per_sentence\u001b[39m\u001b[39m'\u001b[39m])), axis\u001b[39m=\u001b[39m\u001b[39m1\u001b[39m)\u001b[39m.\u001b[39mT\n\u001b[0;32m     10\u001b[0m \u001b[39m# group by 'label' and calculate the means of 'num_sentences', 'mean_words_per_sentence', 'mean_sentence_length', and 'mean_words_per_sentence_v2'\u001b[39;00m\n\u001b[0;32m     11\u001b[0m grouped \u001b[39m=\u001b[39m df\u001b[39m.\u001b[39mgroupby(\u001b[39m'\u001b[39m\u001b[39mlabels\u001b[39m\u001b[39m'\u001b[39m)\u001b[39m.\u001b[39mmean()\n",
      "\u001b[1;31mValueError\u001b[0m: too many values to unpack (expected 2)"
     ]
    }
   ],
   "source": [
    "# apply the function to the 'text' column and create two new columns\n",
    "df[['num_sentences', 'words_per_sentence']] = df['text_data'].apply(lambda x: pd.Series(count_sentences_and_words_per_sentence(x)))\n",
    "\n",
    "# calculate the mean of the 'words_per_sentence' list\n",
    "df['mean_words_per_sentence'] = df['words_per_sentence'].apply(lambda x: sum(x)/len(x))\n",
    "\n",
    "# calculate the mean sentence length and mean words per sentence\n",
    "df['mean_sentence_length'], df['mean_words_per_sentence_v2'] = df.apply(lambda x: (sum(x['words_per_sentence'])/x['num_sentences'], sum(x['words_per_sentence'])/len(x['words_per_sentence'])), axis=1).T\n",
    "\n",
    "# group by 'label' and calculate the means of 'num_sentences', 'mean_words_per_sentence', 'mean_sentence_length', and 'mean_words_per_sentence_v2'\n",
    "grouped = df.groupby('labels').mean()\n",
    "\n",
    "# create a bar plot of the means\n",
    "grouped.plot(kind='bar')\n",
    "plt.title('Averages of Sentences and Words per Sentence by Label')\n",
    "plt.xlabel('Label')\n",
    "plt.ylabel('Average')\n",
    "plt.show()\n"
   ]
  },
  {
   "cell_type": "code",
   "execution_count": null,
   "metadata": {},
   "outputs": [],
   "source": []
  }
 ],
 "metadata": {
  "kernelspec": {
   "display_name": "python311",
   "language": "python",
   "name": "python3"
  },
  "language_info": {
   "codemirror_mode": {
    "name": "ipython",
    "version": 3
   },
   "file_extension": ".py",
   "mimetype": "text/x-python",
   "name": "python",
   "nbconvert_exporter": "python",
   "pygments_lexer": "ipython3",
   "version": "3.11.0"
  },
  "orig_nbformat": 4,
  "vscode": {
   "interpreter": {
    "hash": "4159a6653fa75438f66a7bfc0596de9be5c1734cbef8b4e22353e9d3f86b82c0"
   }
  }
 },
 "nbformat": 4,
 "nbformat_minor": 2
}
