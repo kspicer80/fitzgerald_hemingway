{
 "cells": [
  {
   "cell_type": "code",
   "execution_count": 7,
   "metadata": {},
   "outputs": [],
   "source": [
    "from helper_functions import load_data_for_all_three\n",
    "import pandas as pd\n",
    "import spacy\n",
    "nlp = spacy.load(\"en_core_web_lg\")\n",
    "from tqdm import tqdm, tqdm_notebook"
   ]
  },
  {
   "cell_type": "code",
   "execution_count": 8,
   "metadata": {},
   "outputs": [
    {
     "name": "stdout",
     "output_type": "stream",
     "text": [
      "Processing file: fitzgerald_all_the_sad.txt\n",
      "Processing file: fitzgerald_bablyon_revisited.txt\n",
      "Processing file: fitzgerald_beautiful_and_damned.txt\n",
      "Processing file: fitzgerald_flappers_and_philosophers.txt\n",
      "Processing file: fitzgerald_gatsby.txt\n",
      "Processing file: fitzgerald_tales_jazz_age.txt\n",
      "Processing file: fitzgerald_tender_is.txt\n",
      "Processing file: fitzgerald_the_vegtable.txt\n",
      "Processing file: fitzgerald_this_side.txt\n",
      "Processing file: hemingway_across_the_river.txt\n",
      "Processing file: hemingway_bell_tolls.txt\n",
      "Processing file: hemingway_collected_stories.txt\n",
      "Processing file: hemingway_farewell.txt\n",
      "Processing file: hemingway_green_hills_africa.txt\n",
      "Processing file: hemingway_in_our_time.txt\n",
      "Processing file: hemingway_men_without_women.txt\n",
      "Processing file: hemingway_old_man.txt\n",
      "Processing file: hemingway_sun_also.txt\n",
      "Processing file: hemingway_ten_poems.txt\n",
      "Processing file: hemingway_winner_take_nothing.txt\n",
      "Processing file: steinbeck_cannery_row.txt\n",
      "Processing file: steinbeck_east_of_eden.txt\n",
      "Processing file: steinbeck_grapes.txt\n",
      "Processing file: steinbeck_of_mice.txt\n",
      "Processing file: steinbeck_the_pearl.txt\n",
      "Processing file: steinbeck_the_red_pony.txt\n"
     ]
    }
   ],
   "source": [
    "text_data, labels = load_data_for_all_three('data')\n",
    "df = pd.DataFrame(list(zip(text_data, labels)), columns=['text_data', 'label'])"
   ]
  },
  {
   "cell_type": "code",
   "execution_count": 13,
   "metadata": {},
   "outputs": [],
   "source": [
    "nlp.max_length = 2000000\n",
    "# define a function to extract POS tags from a text and return a dictionary with the counts of each tag\n",
    "def get_pos_counts(text):\n",
    "    doc = nlp(text)\n",
    "    pos_counts = {}\n",
    "    for token in doc:\n",
    "        pos = token.pos_\n",
    "        if pos in pos_counts:\n",
    "            pos_counts[pos] += 1\n",
    "        else:\n",
    "            pos_counts[pos] = 1\n",
    "    return pos_counts\n",
    "\n",
    "# apply the get_pos_counts function to each row in the dataframe\n",
    "#df[\"pos_counts\"] = df[\"text_data\"].progress_apply(get_pos_counts)\n",
    "\n",
    "def get_pos_counts_wrapper(text):\n",
    "    return get_pos_counts(text)\n",
    "\n",
    "df[\"pos_counts\"] = list(tqdm(df[\"text_data\"].apply(get_pos_counts_wrapper)))\n",
    "\n",
    "# extract the POS tags and their counts into separate columns in the dataframe\n",
    "pos_tags = set.union(*[set(d.keys()) for d in df[\"pos_counts\"]])\n",
    "for tag in pos_tags:\n",
    "    df[tag] = df[\"pos_counts\"].apply(lambda x: x.get(tag, 0))\n",
    "\n",
    "df.head()"
   ]
  },
  {
   "cell_type": "code",
   "execution_count": null,
   "metadata": {},
   "outputs": [],
   "source": []
  }
 ],
 "metadata": {
  "kernelspec": {
   "display_name": "python311",
   "language": "python",
   "name": "python3"
  },
  "language_info": {
   "codemirror_mode": {
    "name": "ipython",
    "version": 3
   },
   "file_extension": ".py",
   "mimetype": "text/x-python",
   "name": "python",
   "nbconvert_exporter": "python",
   "pygments_lexer": "ipython3",
   "version": "3.11.0"
  },
  "orig_nbformat": 4,
  "vscode": {
   "interpreter": {
    "hash": "4159a6653fa75438f66a7bfc0596de9be5c1734cbef8b4e22353e9d3f86b82c0"
   }
  }
 },
 "nbformat": 4,
 "nbformat_minor": 2
}
