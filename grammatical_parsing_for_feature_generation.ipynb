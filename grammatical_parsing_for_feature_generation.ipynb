{
 "cells": [
  {
   "cell_type": "code",
   "execution_count": 1,
   "metadata": {},
   "outputs": [
    {
     "name": "stderr",
     "output_type": "stream",
     "text": [
      "c:\\Users\\KSpicer\\Anaconda3\\envs\\python311\\Lib\\site-packages\\tqdm\\auto.py:22: TqdmWarning: IProgress not found. Please update jupyter and ipywidgets. See https://ipywidgets.readthedocs.io/en/stable/user_install.html\n",
      "  from .autonotebook import tqdm as notebook_tqdm\n"
     ]
    }
   ],
   "source": [
    "from helper_functions import load_data_for_all_three\n",
    "import pandas as pd\n",
    "import spacy\n",
    "nlp = spacy.load(\"en_core_web_lg\")\n",
    "from tqdm import tqdm, tqdm_notebook"
   ]
  },
  {
   "cell_type": "code",
   "execution_count": 2,
   "metadata": {},
   "outputs": [
    {
     "name": "stdout",
     "output_type": "stream",
     "text": [
      "Processing file: fitzgerald_all_the_sad.txt\n",
      "Processing file: fitzgerald_bablyon_revisited.txt\n",
      "Processing file: fitzgerald_beautiful_and_damned.txt\n",
      "Processing file: fitzgerald_flappers_and_philosophers.txt\n",
      "Processing file: fitzgerald_gatsby.txt\n",
      "Processing file: fitzgerald_tales_jazz_age.txt\n",
      "Processing file: fitzgerald_tender_is.txt\n",
      "Processing file: fitzgerald_the_vegtable.txt\n",
      "Processing file: fitzgerald_this_side.txt\n",
      "Processing file: hemingway_across_the_river.txt\n",
      "Processing file: hemingway_bell_tolls.txt\n",
      "Processing file: hemingway_collected_stories.txt\n",
      "Processing file: hemingway_farewell.txt\n",
      "Processing file: hemingway_green_hills_africa.txt\n",
      "Processing file: hemingway_in_our_time.txt\n",
      "Processing file: hemingway_men_without_women.txt\n",
      "Processing file: hemingway_old_man.txt\n",
      "Processing file: hemingway_sun_also.txt\n",
      "Processing file: hemingway_ten_poems.txt\n",
      "Processing file: hemingway_winner_take_nothing.txt\n",
      "Processing file: steinbeck_cannery_row.txt\n",
      "Processing file: steinbeck_east_of_eden.txt\n",
      "Processing file: steinbeck_grapes.txt\n",
      "Processing file: steinbeck_of_mice.txt\n",
      "Processing file: steinbeck_the_pearl.txt\n",
      "Processing file: steinbeck_the_red_pony.txt\n"
     ]
    }
   ],
   "source": [
    "text_data, labels = load_data_for_all_three('data')\n",
    "df = pd.DataFrame(list(zip(text_data, labels)), columns=['text_data', 'label'])"
   ]
  },
  {
   "cell_type": "code",
   "execution_count": 6,
   "metadata": {},
   "outputs": [
    {
     "name": "stderr",
     "output_type": "stream",
     "text": [
      "100%|██████████| 26/26 [00:00<00:00, 2662.53it/s]\n"
     ]
    },
    {
     "data": {
      "text/html": [
       "<div>\n",
       "<style scoped>\n",
       "    .dataframe tbody tr th:only-of-type {\n",
       "        vertical-align: middle;\n",
       "    }\n",
       "\n",
       "    .dataframe tbody tr th {\n",
       "        vertical-align: top;\n",
       "    }\n",
       "\n",
       "    .dataframe thead th {\n",
       "        text-align: right;\n",
       "    }\n",
       "</style>\n",
       "<table border=\"1\" class=\"dataframe\">\n",
       "  <thead>\n",
       "    <tr style=\"text-align: right;\">\n",
       "      <th></th>\n",
       "      <th>text_data</th>\n",
       "      <th>label</th>\n",
       "      <th>pos_counts_orig</th>\n",
       "      <th>DET</th>\n",
       "      <th>PRON</th>\n",
       "      <th>PART</th>\n",
       "      <th>INTJ</th>\n",
       "      <th>SCONJ</th>\n",
       "      <th>AUX</th>\n",
       "      <th>X</th>\n",
       "      <th>...</th>\n",
       "      <th>AUX_oprd_count</th>\n",
       "      <th>PART_ROOT_count</th>\n",
       "      <th>NUM_csubj_count</th>\n",
       "      <th>X_nsubjpass_count</th>\n",
       "      <th>DET_nmod_count</th>\n",
       "      <th>PUNCT_relcl_count</th>\n",
       "      <th>CCONJ_xcomp_count</th>\n",
       "      <th>ADV_xcomp_count</th>\n",
       "      <th>INTJ_preconj_count</th>\n",
       "      <th>PART_intj_count</th>\n",
       "    </tr>\n",
       "  </thead>\n",
       "  <tbody>\n",
       "    <tr>\n",
       "      <th>0</th>\n",
       "      <td>THE RICH BOYBegin with an individual, and befo...</td>\n",
       "      <td>0</td>\n",
       "      <td>{'DET': 5085, 'DET_det': 4972, 'ADJ': 4181, 'A...</td>\n",
       "      <td>5085</td>\n",
       "      <td>8450</td>\n",
       "      <td>1666</td>\n",
       "      <td>181</td>\n",
       "      <td>1528</td>\n",
       "      <td>3669</td>\n",
       "      <td>83</td>\n",
       "      <td>...</td>\n",
       "      <td>1</td>\n",
       "      <td>6</td>\n",
       "      <td>0</td>\n",
       "      <td>0</td>\n",
       "      <td>0</td>\n",
       "      <td>1</td>\n",
       "      <td>0</td>\n",
       "      <td>0</td>\n",
       "      <td>0</td>\n",
       "      <td>0</td>\n",
       "    </tr>\n",
       "    <tr>\n",
       "      <th>1</th>\n",
       "      <td>\"And where's Mr. Campbell?\" Charlie asked.\"Gon...</td>\n",
       "      <td>0</td>\n",
       "      <td>{'PUNCT': 1384, 'PUNCT_punct': 1362, 'CCONJ': ...</td>\n",
       "      <td>604</td>\n",
       "      <td>1143</td>\n",
       "      <td>276</td>\n",
       "      <td>22</td>\n",
       "      <td>167</td>\n",
       "      <td>487</td>\n",
       "      <td>16</td>\n",
       "      <td>...</td>\n",
       "      <td>0</td>\n",
       "      <td>0</td>\n",
       "      <td>0</td>\n",
       "      <td>0</td>\n",
       "      <td>0</td>\n",
       "      <td>0</td>\n",
       "      <td>0</td>\n",
       "      <td>0</td>\n",
       "      <td>0</td>\n",
       "      <td>0</td>\n",
       "    </tr>\n",
       "    <tr>\n",
       "      <th>2</th>\n",
       "      <td>CONTENTSBOOK ONE  I. ANTHONY PATCH II. PORTRAI...</td>\n",
       "      <td>0</td>\n",
       "      <td>{'PROPN': 7332, 'PROPN_ROOT': 331, 'NUM': 1312...</td>\n",
       "      <td>10480</td>\n",
       "      <td>14529</td>\n",
       "      <td>2871</td>\n",
       "      <td>584</td>\n",
       "      <td>2716</td>\n",
       "      <td>7147</td>\n",
       "      <td>155</td>\n",
       "      <td>...</td>\n",
       "      <td>2</td>\n",
       "      <td>7</td>\n",
       "      <td>0</td>\n",
       "      <td>2</td>\n",
       "      <td>1</td>\n",
       "      <td>3</td>\n",
       "      <td>0</td>\n",
       "      <td>1</td>\n",
       "      <td>1</td>\n",
       "      <td>0</td>\n",
       "    </tr>\n",
       "    <tr>\n",
       "      <th>3</th>\n",
       "      <td>Flappers and PhilosophersThe Offshore PirateIT...</td>\n",
       "      <td>0</td>\n",
       "      <td>{'NOUN': 10343, 'NOUN_nmod': 75, 'CCONJ': 2206...</td>\n",
       "      <td>4749</td>\n",
       "      <td>7536</td>\n",
       "      <td>1485</td>\n",
       "      <td>231</td>\n",
       "      <td>1233</td>\n",
       "      <td>3293</td>\n",
       "      <td>98</td>\n",
       "      <td>...</td>\n",
       "      <td>0</td>\n",
       "      <td>4</td>\n",
       "      <td>0</td>\n",
       "      <td>0</td>\n",
       "      <td>0</td>\n",
       "      <td>0</td>\n",
       "      <td>0</td>\n",
       "      <td>0</td>\n",
       "      <td>0</td>\n",
       "      <td>0</td>\n",
       "    </tr>\n",
       "    <tr>\n",
       "      <th>4</th>\n",
       "      <td>Then wear the gold hat, if that will move he...</td>\n",
       "      <td>0</td>\n",
       "      <td>{'SPACE': 52, 'SPACE_dep': 52, 'ADV': 2870, 'A...</td>\n",
       "      <td>4044</td>\n",
       "      <td>6257</td>\n",
       "      <td>1164</td>\n",
       "      <td>94</td>\n",
       "      <td>1059</td>\n",
       "      <td>2261</td>\n",
       "      <td>92</td>\n",
       "      <td>...</td>\n",
       "      <td>0</td>\n",
       "      <td>3</td>\n",
       "      <td>0</td>\n",
       "      <td>0</td>\n",
       "      <td>0</td>\n",
       "      <td>0</td>\n",
       "      <td>1</td>\n",
       "      <td>1</td>\n",
       "      <td>0</td>\n",
       "      <td>0</td>\n",
       "    </tr>\n",
       "  </tbody>\n",
       "</table>\n",
       "<p>5 rows × 1177 columns</p>\n",
       "</div>"
      ],
      "text/plain": [
       "                                           text_data  label  \\\n",
       "0  THE RICH BOYBegin with an individual, and befo...      0   \n",
       "1  \"And where's Mr. Campbell?\" Charlie asked.\"Gon...      0   \n",
       "2  CONTENTSBOOK ONE  I. ANTHONY PATCH II. PORTRAI...      0   \n",
       "3  Flappers and PhilosophersThe Offshore PirateIT...      0   \n",
       "4    Then wear the gold hat, if that will move he...      0   \n",
       "\n",
       "                                     pos_counts_orig    DET   PRON  PART  \\\n",
       "0  {'DET': 5085, 'DET_det': 4972, 'ADJ': 4181, 'A...   5085   8450  1666   \n",
       "1  {'PUNCT': 1384, 'PUNCT_punct': 1362, 'CCONJ': ...    604   1143   276   \n",
       "2  {'PROPN': 7332, 'PROPN_ROOT': 331, 'NUM': 1312...  10480  14529  2871   \n",
       "3  {'NOUN': 10343, 'NOUN_nmod': 75, 'CCONJ': 2206...   4749   7536  1485   \n",
       "4  {'SPACE': 52, 'SPACE_dep': 52, 'ADV': 2870, 'A...   4044   6257  1164   \n",
       "\n",
       "   INTJ  SCONJ   AUX    X  ...  AUX_oprd_count  PART_ROOT_count  \\\n",
       "0   181   1528  3669   83  ...               1                6   \n",
       "1    22    167   487   16  ...               0                0   \n",
       "2   584   2716  7147  155  ...               2                7   \n",
       "3   231   1233  3293   98  ...               0                4   \n",
       "4    94   1059  2261   92  ...               0                3   \n",
       "\n",
       "   NUM_csubj_count  X_nsubjpass_count  DET_nmod_count  PUNCT_relcl_count  \\\n",
       "0                0                  0               0                  1   \n",
       "1                0                  0               0                  0   \n",
       "2                0                  2               1                  3   \n",
       "3                0                  0               0                  0   \n",
       "4                0                  0               0                  0   \n",
       "\n",
       "   CCONJ_xcomp_count  ADV_xcomp_count  INTJ_preconj_count  PART_intj_count  \n",
       "0                  0                0                   0                0  \n",
       "1                  0                0                   0                0  \n",
       "2                  0                1                   1                0  \n",
       "3                  0                0                   0                0  \n",
       "4                  1                1                   0                0  \n",
       "\n",
       "[5 rows x 1177 columns]"
      ]
     },
     "execution_count": 6,
     "metadata": {},
     "output_type": "execute_result"
    }
   ],
   "source": [
    "nlp.max_length = 2000000\n",
    "# define a function to extract POS tags from a text and return a dictionary with the counts of each tag\n",
    "def get_pos_counts(text):\n",
    "    doc = nlp(text)\n",
    "    pos_counts = {}\n",
    "    for token in doc:\n",
    "        pos = token.pos_\n",
    "        if pos in pos_counts:\n",
    "            pos_counts[pos] += 1\n",
    "        else:\n",
    "            pos_counts[pos] = 1\n",
    "        dep = token.dep_\n",
    "        if dep != \"\":\n",
    "            dep_key = f\"{pos}_{dep}\"\n",
    "            if dep_key in pos_counts:\n",
    "                pos_counts[dep_key] += 1\n",
    "            else:\n",
    "                pos_counts[dep_key] = 1\n",
    "    return pos_counts\n",
    "\n",
    "# apply the get_pos_counts function to each row in the dataframe\n",
    "#df[\"pos_counts\"] = df[\"text_data\"].progress_apply(get_pos_counts)\n",
    "\n",
    "def get_pos_counts_wrapper(text):\n",
    "    return get_pos_counts(text)\n",
    "\n",
    "df['text_data'] = df['text_data'].str.replace('\\n', ' ')\n",
    "df[\"pos_counts\"] = list(tqdm(df[\"text_data\"].apply(get_pos_counts_wrapper)))\n",
    "\n",
    "# extract the POS tags and their counts into separate columns in the dataframe\n",
    "pos_tags = set.union(*[set(d.keys()) for d in df[\"pos_counts\"]])\n",
    "\n",
    "df = df.rename(columns={'pos_counts': 'pos_counts_orig'})\n",
    "\n",
    "pos_series_list = []\n",
    "for tag in pos_tags:\n",
    "    pos_series_list.append(df[\"pos_counts_orig\"].apply(lambda x: x.get(tag, 0)))\n",
    "\n",
    "# concatenate all the series into a single dataframe\n",
    "pos_counts_df = pd.concat(pos_series_list, axis=1)\n",
    "\n",
    "# rename the columns to include the POS tag\n",
    "pos_counts_df.columns = [tag + '_count' for tag in pos_tags]\n",
    "\n",
    "# join the new dataframe to the original dataframe\n",
    "df = df.join(pos_counts_df)\n",
    "df.head()"
   ]
  },
  {
   "cell_type": "code",
   "execution_count": 8,
   "metadata": {},
   "outputs": [
    {
     "name": "stderr",
     "output_type": "stream",
     "text": [
      "c:\\Users\\KSpicer\\Anaconda3\\envs\\python311\\Lib\\site-packages\\sklearn\\feature_extraction\\text.py:528: UserWarning: The parameter 'token_pattern' will not be used since 'tokenizer' is not None'\n",
      "  warnings.warn(\n",
      "C:\\Users\\KSpicer\\AppData\\Local\\Temp\\ipykernel_10520\\825954939.py:20: FutureWarning: Passing a set as an indexer is deprecated and will raise in a future version. Use a list instead.\n",
      "  X_train_full = np.hstack((X_train_tfidf.toarray(), df.iloc[X_train.index][pos_tags].values))\n",
      "C:\\Users\\KSpicer\\AppData\\Local\\Temp\\ipykernel_10520\\825954939.py:21: FutureWarning: Passing a set as an indexer is deprecated and will raise in a future version. Use a list instead.\n",
      "  X_test_full = np.hstack((X_test_tfidf.toarray(), df.iloc[X_test.index][pos_tags].values))\n"
     ]
    },
    {
     "name": "stdout",
     "output_type": "stream",
     "text": [
      "Accuracy: 0.67\n"
     ]
    },
    {
     "name": "stderr",
     "output_type": "stream",
     "text": [
      "c:\\Users\\KSpicer\\Anaconda3\\envs\\python311\\Lib\\site-packages\\sklearn\\linear_model\\_logistic.py:458: ConvergenceWarning: lbfgs failed to converge (status=1):\n",
      "STOP: TOTAL NO. of ITERATIONS REACHED LIMIT.\n",
      "\n",
      "Increase the number of iterations (max_iter) or scale the data as shown in:\n",
      "    https://scikit-learn.org/stable/modules/preprocessing.html\n",
      "Please also refer to the documentation for alternative solver options:\n",
      "    https://scikit-learn.org/stable/modules/linear_model.html#logistic-regression\n",
      "  n_iter_i = _check_optimize_result(\n"
     ]
    }
   ],
   "source": [
    "import nltk\n",
    "import numpy as np\n",
    "from sklearn.feature_extraction.text import TfidfVectorizer\n",
    "from sklearn.linear_model import LogisticRegression\n",
    "from sklearn.model_selection import train_test_split\n",
    "\n",
    "# preprocess the text data and split it into training and testing sets\n",
    "X = df['text_data']\n",
    "y = df['label']\n",
    "X_train, X_test, y_train, y_test = train_test_split(X, y, test_size=0.2, random_state=42)\n",
    "\n",
    "# create a TfidfVectorizer object to convert the text data into feature vectors\n",
    "tfidf = TfidfVectorizer(use_idf=False, norm='l2', tokenizer=nltk.word_tokenize)\n",
    "\n",
    "# fit the vectorizer on the training data and transform the text data into feature vectors\n",
    "X_train_tfidf =tfidf.fit_transform(X_train)\n",
    "X_test_tfidf = tfidf.transform(X_test)\n",
    "\n",
    "# concatenate the POS tag counts with the Tfidf feature vectors\n",
    "X_train_full = np.hstack((X_train_tfidf.toarray(), df.iloc[X_train.index][pos_tags].values))\n",
    "X_test_full = np.hstack((X_test_tfidf.toarray(), df.iloc[X_test.index][pos_tags].values))\n",
    "\n",
    "# train a logistic regression model on the concatenated feature vectors\n",
    "lr = LogisticRegression(random_state=42)\n",
    "lr.fit(X_train_full, y_train)\n",
    "\n",
    "# evaluate the model on the testing set\n",
    "acc = lr.score(X_test_full, y_test)\n",
    "print('Accuracy: {:.2f}'.format(acc))"
   ]
  },
  {
   "cell_type": "code",
   "execution_count": 12,
   "metadata": {},
   "outputs": [
    {
     "name": "stderr",
     "output_type": "stream",
     "text": [
      "c:\\Users\\KSpicer\\Anaconda3\\envs\\python311\\Lib\\site-packages\\sklearn\\feature_extraction\\text.py:528: UserWarning: The parameter 'token_pattern' will not be used since 'tokenizer' is not None'\n",
      "  warnings.warn(\n"
     ]
    },
    {
     "name": "stdout",
     "output_type": "stream",
     "text": [
      "Accuracy: 0.5\n"
     ]
    },
    {
     "name": "stderr",
     "output_type": "stream",
     "text": [
      "C:\\Users\\KSpicer\\AppData\\Local\\Temp\\ipykernel_10520\\1155713337.py:13: FutureWarning: Passing a set as an indexer is deprecated and will raise in a future version. Use a list instead.\n",
      "  X_train_full = np.hstack((X_train_tfidf.toarray(), df.iloc[X_train.index][pos_tags].values))\n",
      "C:\\Users\\KSpicer\\AppData\\Local\\Temp\\ipykernel_10520\\1155713337.py:14: FutureWarning: Passing a set as an indexer is deprecated and will raise in a future version. Use a list instead.\n",
      "  X_test_full = np.hstack((X_test_tfidf.toarray(), df.iloc[X_test.index][pos_tags].values))\n"
     ]
    }
   ],
   "source": [
    "from sklearn.neighbors import KNeighborsClassifier\n",
    "from sklearn.metrics import accuracy_score\n",
    "\n",
    "# Split the dataset into training and testing sets\n",
    "X_train, X_test, y_train, y_test = train_test_split(X, y, test_size=0.2, random_state=42)\n",
    "\n",
    "# create a TfidfVectorizer object to convert the text data into feature vectors\n",
    "tfidf = TfidfVectorizer(use_idf=False, norm='l2', tokenizer=nltk.word_tokenize)\n",
    "X_train_tfidf =tfidf.fit_transform(X_train)\n",
    "X_test_tfidf = tfidf.transform(X_test)\n",
    "\n",
    "# concatenate the POS tag counts with the Tfidf feature vectors\n",
    "X_train_full = np.hstack((X_train_tfidf.toarray(), df.iloc[X_train.index][pos_tags].values))\n",
    "X_test_full = np.hstack((X_test_tfidf.toarray(), df.iloc[X_test.index][pos_tags].values))\n",
    "\n",
    "# Create a KNN classifier with k=5\n",
    "knn = KNeighborsClassifier(n_neighbors=3)\n",
    "\n",
    "# Train the model on the training set\n",
    "knn.fit(X_train_full, y_train)\n",
    "\n",
    "# Predict the classes of the testing set\n",
    "y_pred = knn.predict(X_test_full)\n",
    "\n",
    "# Calculate the accuracy of the model\n",
    "accuracy = accuracy_score(y_test, y_pred)\n",
    "print(\"Accuracy:\", accuracy)"
   ]
  },
  {
   "cell_type": "code",
   "execution_count": 13,
   "metadata": {},
   "outputs": [
    {
     "name": "stderr",
     "output_type": "stream",
     "text": [
      "c:\\Users\\KSpicer\\Anaconda3\\envs\\python311\\Lib\\site-packages\\sklearn\\feature_extraction\\text.py:528: UserWarning: The parameter 'token_pattern' will not be used since 'tokenizer' is not None'\n",
      "  warnings.warn(\n"
     ]
    },
    {
     "name": "stdout",
     "output_type": "stream",
     "text": [
      "Accuracy: 0.8333333333333334\n"
     ]
    },
    {
     "name": "stderr",
     "output_type": "stream",
     "text": [
      "C:\\Users\\KSpicer\\AppData\\Local\\Temp\\ipykernel_10520\\1437996380.py:9: FutureWarning: Passing a set as an indexer is deprecated and will raise in a future version. Use a list instead.\n",
      "  X_train_full = np.hstack((X_train_tfidf.toarray(), df.iloc[X_train.index][pos_tags].values))\n",
      "C:\\Users\\KSpicer\\AppData\\Local\\Temp\\ipykernel_10520\\1437996380.py:10: FutureWarning: Passing a set as an indexer is deprecated and will raise in a future version. Use a list instead.\n",
      "  X_test_full = np.hstack((X_test_tfidf.toarray(), df.iloc[X_test.index][pos_tags].values))\n"
     ]
    }
   ],
   "source": [
    "from sklearn.tree import DecisionTreeClassifier\n",
    "\n",
    "# create a TfidfVectorizer object to convert the text data into feature vectors\n",
    "tfidf = TfidfVectorizer(use_idf=False, norm='l2', tokenizer=nltk.word_tokenize)\n",
    "X_train_tfidf =tfidf.fit_transform(X_train)\n",
    "X_test_tfidf = tfidf.transform(X_test)\n",
    "\n",
    "# concatenate the POS tag counts with the Tfidf feature vectors\n",
    "X_train_full = np.hstack((X_train_tfidf.toarray(), df.iloc[X_train.index][pos_tags].values))\n",
    "X_test_full = np.hstack((X_test_tfidf.toarray(), df.iloc[X_test.index][pos_tags].values))\n",
    "\n",
    "# Create a decision tree classifier object\n",
    "dt = DecisionTreeClassifier(max_depth=5)\n",
    "\n",
    "# Fit the classifier on the training data\n",
    "dt.fit(X_train_full, y_train)\n",
    "\n",
    "# Predict the labels for the test data\n",
    "y_pred = dt.predict(X_test_full)\n",
    "\n",
    "# Evaluate the performance of the classifier\n",
    "from sklearn.metrics import accuracy_score\n",
    "accuracy = accuracy_score(y_test, y_pred)\n",
    "print(\"Accuracy:\", accuracy)"
   ]
  },
  {
   "cell_type": "code",
   "execution_count": 14,
   "metadata": {},
   "outputs": [
    {
     "data": {
      "text/plain": [
       "<AxesSubplot: >"
      ]
     },
     "execution_count": 14,
     "metadata": {},
     "output_type": "execute_result"
    },
    {
     "data": {
      "image/png": "[encoded data removed]",
      "text/plain": [
       "<Figure size 640x480 with 2 Axes>"
      ]
     },
     "metadata": {},
     "output_type": "display_data"
    }
   ],
   "source": [
    "import seaborn as sns\n",
    "from sklearn.metrics import confusion_matrix\n",
    "\n",
    "cm = confusion_matrix(y_test, y_pred)\n",
    "sns.heatmap(cm, annot=True, cmap=\"Blues\", fmt=\"d\", xticklabels=[\"fitzgerald\", \"hemingway\", \"steinbeck\"], yticklabels=[\"fitzgerald\", \"hemingway\", \"steinbeck\"])"
   ]
  },
  {
   "cell_type": "code",
   "execution_count": 15,
   "metadata": {},
   "outputs": [
    {
     "name": "stdout",
     "output_type": "stream",
     "text": [
      "Accuracy score: 1.00\n"
     ]
    },
    {
     "data": {
      "text/plain": [
       "<AxesSubplot: >"
      ]
     },
     "execution_count": 15,
     "metadata": {},
     "output_type": "execute_result"
    },
    {
     "data": {
      "image/png": "[encoded data removed]",
      "text/plain": [
       "<Figure size 640x480 with 2 Axes>"
      ]
     },
     "metadata": {},
     "output_type": "display_data"
    }
   ],
   "source": [
    "from sklearn.ensemble import GradientBoostingClassifier\n",
    "from sklearn.metrics import accuracy_score, confusion_matrix\n",
    "import seaborn as sns\n",
    "\n",
    "# Initialize the GBM classifier\n",
    "gbm = GradientBoostingClassifier(n_estimators=100, max_depth=5, random_state=42)\n",
    "\n",
    "# Train the classifier on the training data\n",
    "gbm.fit(X_train_full, y_train)\n",
    "\n",
    "# Predict the labels for the test data\n",
    "y_pred = gbm.predict(X_test_full)\n",
    "\n",
    "# Compute the accuracy score\n",
    "accuracy = accuracy_score(y_test, y_pred)\n",
    "print(f\"Accuracy score: {accuracy:.2f}\")\n",
    "\n",
    "# Compute the confusion matrix\n",
    "cm = confusion_matrix(y_test, y_pred)\n",
    "\n",
    "# Plot the confusion matrix using seaborn's heatmap function\n",
    "cm = confusion_matrix(y_test, y_pred)\n",
    "sns.heatmap(cm, annot=True, cmap=\"Reds\", fmt=\"d\", xticklabels=[\"fitzgerald\", \"hemingway\", \"steinbeck\"], yticklabels=[\"fitzgerald\", \"hemingway\", \"steinbeck\"])"
   ]
  },
  {
   "cell_type": "code",
   "execution_count": null,
   "metadata": {},
   "outputs": [],
   "source": []
  }
 ],
 "metadata": {
  "kernelspec": {
   "display_name": "python311",
   "language": "python",
   "name": "python3"
  },
  "language_info": {
   "codemirror_mode": {
    "name": "ipython",
    "version": 3
   },
   "file_extension": ".py",
   "mimetype": "text/x-python",
   "name": "python",
   "nbconvert_exporter": "python",
   "pygments_lexer": "ipython3",
   "version": "3.11.0"
  },
  "orig_nbformat": 4,
  "vscode": {
   "interpreter": {
    "hash": "4159a6653fa75438f66a7bfc0596de9be5c1734cbef8b4e22353e9d3f86b82c0"
   }
  }
 },
 "nbformat": 4,
 "nbformat_minor": 2
}
