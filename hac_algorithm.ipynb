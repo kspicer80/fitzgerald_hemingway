{
 "cells": [
  {
   "cell_type": "code",
   "execution_count": 52,
   "metadata": {},
   "outputs": [],
   "source": [
    "import os\n",
    "import sklearn.feature_extraction.text as text\n",
    "import sklearn.preprocessing as preprocessing\n",
    "import sklearn.model_selection as model_selection\n",
    "import scipy.spatial.distance as scidist\n",
    "import numpy as np\n",
    "\n",
    "def load_directory(directory, max_length):\n",
    "    documents, authors, titles = [], [], []\n",
    "    for filename in os.scandir(directory):\n",
    "        if not filename.name.endswith('.txt'):\n",
    "            continue\n",
    "        author, _ = os.path.splitext(filename.name)\n",
    "        \n",
    "        with open(filename.path) as f:\n",
    "            contents = f.read()\n",
    "        lemmas = contents.lower().split()\n",
    "        start_idx, end_idx, segm_cnt = 0, max_length, 1\n",
    "    \n",
    "        while end_idx < len(lemmas):\n",
    "            documents.append(' '.join(lemmas[start_idx:end_idx]))\n",
    "            authors.append(author[0])\n",
    "            title = filename.name.replace('.txt', '').split('_')[1]\n",
    "            titles.append(f'{title}-{segm_cnt}')\n",
    "            start_idx += max_length\n",
    "            end_idx += max_length\n",
    "            segm_cnt += 1 \n",
    "    \n",
    "    return documents, authors, titles"
   ]
  },
  {
   "cell_type": "code",
   "execution_count": 55,
   "metadata": {},
   "outputs": [
    {
     "data": {
      "text/plain": [
       "['f',\n",
       " 'f',\n",
       " 'f',\n",
       " 'f',\n",
       " 'f',\n",
       " 'f',\n",
       " 'f',\n",
       " 'f',\n",
       " 'f',\n",
       " 'f',\n",
       " 'f',\n",
       " 'f',\n",
       " 'f',\n",
       " 'f',\n",
       " 'f',\n",
       " 'f',\n",
       " 'f',\n",
       " 'f',\n",
       " 'f',\n",
       " 'f',\n",
       " 'f',\n",
       " 'f',\n",
       " 'f',\n",
       " 'f',\n",
       " 'f',\n",
       " 'f',\n",
       " 'f',\n",
       " 'f',\n",
       " 'f',\n",
       " 'f',\n",
       " 'f',\n",
       " 'f',\n",
       " 'f',\n",
       " 'f',\n",
       " 'f',\n",
       " 'f',\n",
       " 'f',\n",
       " 'f',\n",
       " 'f',\n",
       " 'f',\n",
       " 'f',\n",
       " 'f',\n",
       " 'f',\n",
       " 'f',\n",
       " 'f',\n",
       " 'f',\n",
       " 'f',\n",
       " 'f',\n",
       " 'f',\n",
       " 'f',\n",
       " 'f',\n",
       " 'f',\n",
       " 'f',\n",
       " 'f',\n",
       " 'f',\n",
       " 'f',\n",
       " 'h',\n",
       " 'h',\n",
       " 'h',\n",
       " 'h',\n",
       " 'h',\n",
       " 'h',\n",
       " 'h',\n",
       " 'h',\n",
       " 'h',\n",
       " 'h',\n",
       " 'h',\n",
       " 'h',\n",
       " 'h',\n",
       " 'h',\n",
       " 'h',\n",
       " 'h',\n",
       " 'h',\n",
       " 'h',\n",
       " 'h',\n",
       " 'h',\n",
       " 'h',\n",
       " 'h',\n",
       " 'h',\n",
       " 'h',\n",
       " 'h',\n",
       " 'h',\n",
       " 'h',\n",
       " 'h',\n",
       " 'h',\n",
       " 'h',\n",
       " 'h',\n",
       " 'h',\n",
       " 'h',\n",
       " 'h',\n",
       " 'h',\n",
       " 'h',\n",
       " 'h',\n",
       " 'h',\n",
       " 'h',\n",
       " 'h',\n",
       " 'h',\n",
       " 'h',\n",
       " 'h',\n",
       " 'h',\n",
       " 'h',\n",
       " 'h',\n",
       " 'h',\n",
       " 'h',\n",
       " 'h',\n",
       " 'h',\n",
       " 'h',\n",
       " 'h',\n",
       " 'h']"
      ]
     },
     "execution_count": 55,
     "metadata": {},
     "output_type": "execute_result"
    }
   ],
   "source": [
    "documents, authors, titles = load_directory('./hac_data', 10000)\n",
    "authors"
   ]
  },
  {
   "cell_type": "code",
   "execution_count": 56,
   "metadata": {},
   "outputs": [
    {
     "name": "stdout",
     "output_type": "stream",
     "text": [
      "h\n"
     ]
    }
   ],
   "source": [
    "vectorizer = text.CountVectorizer()\n",
    "v_documents = vectorizer.fit_transform(documents).toarray()\n",
    "v_documents = preprocessing.normalize(v_documents.astype(float), norm='l1')\n",
    "\n",
    "scaler = preprocessing.StandardScaler()\n",
    "s_documents = scaler.fit_transform(v_documents)\n",
    "test_doc = s_documents[0]\n",
    "distances = [scidist.cityblock(test_doc, train_doc) for train_doc in s_documents[1:]]\n",
    "print(authors[np.argmin(distances) + 1])"
   ]
  },
  {
   "cell_type": "code",
   "execution_count": 57,
   "metadata": {},
   "outputs": [
    {
     "name": "stdout",
     "output_type": "stream",
     "text": [
      "N=4 test documents with V=31187 features.\n",
      "N=105 test documents with V=31187 features.\n"
     ]
    }
   ],
   "source": [
    "test_size = len(set(authors)) * 2\n",
    "(train_documents, test_documents, train_authors, test_authors) = model_selection.train_test_split(\n",
    "    v_documents,\n",
    "    authors, \n",
    "    test_size=test_size,\n",
    "    stratify=authors,\n",
    "    random_state=1\n",
    ")\n",
    "\n",
    "print(f'N={test_documents.shape[0]} test documents with '\n",
    "    f'V={test_documents.shape[1]} features.')\n",
    "\n",
    "print(f'N={train_documents.shape[0]} test documents with '\n",
    "    f'V={train_documents.shape[1]} features.')"
   ]
  },
  {
   "cell_type": "code",
   "execution_count": 58,
   "metadata": {},
   "outputs": [
    {
     "name": "stdout",
     "output_type": "stream",
     "text": [
      "['h' 'h' 'h']\n"
     ]
    }
   ],
   "source": [
    "scaler = preprocessing.StandardScaler()\n",
    "scaler.fit(train_documents)\n",
    "train_documents = scaler.transform(train_documents)\n",
    "test_documents = scaler.transform(test_documents)\n",
    "distances = scidist.cdist(test_documents, train_documents, metric='cityblock')\n",
    "\n",
    "nn_predictions = np.array(train_authors)[np.argmin(distances, axis=1)]\n",
    "print(nn_predictions[:3])\n"
   ]
  },
  {
   "cell_type": "code",
   "execution_count": 59,
   "metadata": {},
   "outputs": [],
   "source": [
    "class Delta:\n",
    "\n",
    "    def fit(self, X, y):\n",
    "        self.train_y = np.array(y)\n",
    "        self.scaler = preprocessing.StandardScaler(with_mean=False)\n",
    "        self.train_X = self.scaler.fit_transform(X)\n",
    "        return self\n",
    "\n",
    "    def predict(self, X, metric='cityblock'):\n",
    "        X = self.scaler.transform(X)\n",
    "        dists = scidist.cdist(X, self.train_X, metric=metric)\n",
    "        return self.train_y[np.argmin(dists, axis=1)]"
   ]
  },
  {
   "cell_type": "code",
   "execution_count": 60,
   "metadata": {},
   "outputs": [
    {
     "name": "stdout",
     "output_type": "stream",
     "text": [
      "Observed author is h and h was predicted.\n",
      "Observed author is f WHEREAS h was predicted.\n",
      "Observed author is h and h was predicted.\n",
      "Observed author is f WHEREAS h was predicted.\n",
      "\n",
      "Accuracy of predictions: 0.5\n"
     ]
    }
   ],
   "source": [
    "import sklearn.metrics as metrics\n",
    "\n",
    "delta = Delta()\n",
    "delta.fit(train_documents, train_authors)\n",
    "preds = delta.predict(test_documents)\n",
    "\n",
    "for true, pred in zip(test_authors, preds):\n",
    "    _connector = 'WHEREAS' if true != pred else 'and' \n",
    "    print(f\"Observed author is {true} {_connector} {pred} was predicted.\")\n",
    "\n",
    "accuracy = metrics.accuracy_score(preds, test_authors)\n",
    "print(f\"\\nAccuracy of predictions: {accuracy:.1f}\")"
   ]
  },
  {
   "cell_type": "code",
   "execution_count": 61,
   "metadata": {},
   "outputs": [
    {
     "data": {
      "image/png": "[encoded data removed]",
      "text/plain": [
       "<Figure size 1500x500 with 1 Axes>"
      ]
     },
     "metadata": {},
     "output_type": "display_data"
    }
   ],
   "source": [
    "import matplotlib.pyplot as plt\n",
    "import scipy.cluster.hierarchy as hierarchy\n",
    "\n",
    "dm = scidist.pdist(v_documents, 'cityblock')\n",
    "linkage_object = hierarchy.linkage(dm, method='complete')\n",
    "\n",
    "def plot_tree(linkage_object, labels, figsize=(15, 5), ax = None):\n",
    "    if ax is None:\n",
    "        fig, ax = plt.subplots(figsize=figsize)\n",
    "    with plt.rc_context({'lines.linewidth': 1.0}):\n",
    "        hierarchy.dendrogram(\n",
    "            linkage_object,\n",
    "            labels=labels,\n",
    "            ax=ax,\n",
    "            link_color_func=lambda c: 'red', \n",
    "            leaf_font_size=10,\n",
    "            leaf_rotation=90\n",
    "        )\n",
    "    ax.xaxis.set_ticks_position('none')\n",
    "    ax.yaxis.set_ticks_position('none')\n",
    "    for s in ax.spines.values():\n",
    "        s.set_visible(False)\n",
    "\n",
    "plot_tree(linkage_object, authors)"
   ]
  },
  {
   "cell_type": "code",
   "execution_count": 62,
   "metadata": {},
   "outputs": [
    {
     "data": {
      "text/plain": [
       "[Text(0.5, 0, 'PC1'), Text(0, 0.5, 'PC2')]"
      ]
     },
     "execution_count": 62,
     "metadata": {},
     "output_type": "execute_result"
    },
    {
     "data": {
      "image/png": "[encoded data removed]",
      "text/plain": [
       "<Figure size 640x480 with 1 Axes>"
      ]
     },
     "metadata": {},
     "output_type": "display_data"
    }
   ],
   "source": [
    "import sklearn.decomposition\n",
    "\n",
    "pca = sklearn.decomposition.PCA(n_components=2)\n",
    "documents_proj = pca.fit_transform(v_documents)\n",
    "\n",
    "c1, c2 = documents_proj[:, 0], documents_proj[:, 1]\n",
    "\n",
    "fig, ax = plt.subplots()\n",
    "ax.scatter(c1, c2, facecolors='none')\n",
    "for p1, p2, author in zip (c1, c2, authors):\n",
    "    ax.text(p1, p2, author[0], fontsize=12, ha='center', va='center')\n",
    "\n",
    "ax.set(xlabel=\"PC1\", ylabel=\"PC2\")"
   ]
  },
  {
   "cell_type": "code",
   "execution_count": 70,
   "metadata": {},
   "outputs": [],
   "source": [
    "def load_data(folder_path):\n",
    "    root_folder = folder_path\n",
    "\n",
    "    #filenames = []\n",
    "    text_data = [] # Replace with the text data\n",
    "    labels = [] # Replace with the corresponding labels (0 or 1)\n",
    "\n",
    "    for subfolder in os.listdir(root_folder):\n",
    "        subfolder_path = os.path.join(root_folder, subfolder)\n",
    "\n",
    "        if subfolder == 'fitzgerald':\n",
    "            label = 0\n",
    "        else:\n",
    "            label = 1\n",
    "\n",
    "        for file in os.listdir(subfolder_path):\n",
    "            file_path = os.path.join(subfolder_path, file)\n",
    "            print(\"Processing file:\", file)\n",
    "            with open(file_path, 'r', encoding=\"utf-8\") as f:\n",
    "                text = f.read()\n",
    "            text_data.append(text)\n",
    "            labels.append(label)\n",
    "    return text_data, labels"
   ]
  },
  {
   "cell_type": "code",
   "execution_count": 78,
   "metadata": {},
   "outputs": [
    {
     "name": "stdout",
     "output_type": "stream",
     "text": [
      "C:\\Users\\KSpicer\\Documents\\GitHub\\fitzgerald_hemingway\\data\n",
      "Processing file: fitzgerald_all_the_sad.txt\n",
      "Processing file: fitzgerald_beautiful_and_damned.txt\n",
      "Processing file: fitzgerald_flappers_and_philosophers.txt\n",
      "Processing file: fitzgerald_gatsby.txt\n",
      "Processing file: fitzgerald_tales_jazz_age.txt\n",
      "Processing file: fitzgerald_tender_is.txt\n",
      "Processing file: fitzgerald_the_vegtable.txt\n",
      "Processing file: fitzgerald_this_side.txt\n",
      "Processing file: hemingway_across_the_river.txt\n",
      "Processing file: hemingway_bell_tolls.txt\n",
      "Processing file: hemingway_farewell.txt\n",
      "Processing file: hemingway_green_hills_africa.txt\n",
      "Processing file: hemingway_in_our_time.txt\n",
      "Processing file: hemingway_men_without_women.txt\n",
      "Processing file: hemingway_old_man.txt\n",
      "Processing file: hemingway_sun_also.txt\n",
      "Processing file: hemingway_three_stories_ten_poems.txt\n",
      "Processing file: hemingway_winner_take_nothing.txt\n",
      "18\n"
     ]
    }
   ],
   "source": [
    "from pathlib import Path\n",
    "path = Path(r'C:\\Users\\KSpicer\\Documents\\GitHub\\fitzgerald_hemingway\\data')\n",
    "print(path)\n",
    "text_data, labels = load_data(path)\n",
    "print(len(labels))"
   ]
  },
  {
   "cell_type": "code",
   "execution_count": 79,
   "metadata": {},
   "outputs": [
    {
     "name": "stdout",
     "output_type": "stream",
     "text": [
      "[0, 0, 0, 0, 0, 0, 0, 0, 1, 1, 1, 1, 1, 1, 1, 1, 1, 1]\n"
     ]
    }
   ],
   "source": [
    "print(labels)"
   ]
  },
  {
   "cell_type": "code",
   "execution_count": 81,
   "metadata": {},
   "outputs": [
    {
     "name": "stdout",
     "output_type": "stream",
     "text": [
      "Test accuracy: 0.25\n"
     ]
    }
   ],
   "source": [
    "from sklearn.decomposition import TruncatedSVD\n",
    "from sklearn.feature_extraction.text import TfidfVectorizer\n",
    "from sklearn.pipeline import Pipeline\n",
    "from sklearn.linear_model import LogisticRegression\n",
    "from sklearn.model_selection import train_test_split\n",
    "\n",
    "# create a pipeline to vectorize the text and perform PCA\n",
    "pipeline = Pipeline([\n",
    "    ('vectorizer', TfidfVectorizer()),\n",
    "    ('svd', TruncatedSVD(n_components=2)),\n",
    "    ('classifier', LogisticRegression())\n",
    "])\n",
    "\n",
    "text_data_train, text_data_test, labels_train, labels_test = train_test_split(\n",
    "    text_data, labels, test_size=0.2, random_state=42\n",
    ")\n",
    "# fit the pipeline to the text data and labels\n",
    "pipeline.fit(text_data, labels)\n",
    "\n",
    "score = pipeline.score(text_data_test, labels_test)\n",
    "print(\"Test accuracy:\", score)"
   ]
  },
  {
   "cell_type": "code",
   "execution_count": 93,
   "metadata": {},
   "outputs": [
    {
     "name": "stdout",
     "output_type": "stream",
     "text": [
      "Test accuracy: 1.0\n",
      "              precision    recall  f1-score   support\n",
      "\n",
      "           0       1.00      1.00      1.00         3\n",
      "           1       1.00      1.00      1.00         1\n",
      "\n",
      "    accuracy                           1.00         4\n",
      "   macro avg       1.00      1.00      1.00         4\n",
      "weighted avg       1.00      1.00      1.00         4\n",
      "\n",
      "ROC-AUC: 1.0\n"
     ]
    },
    {
     "data": {
      "image/png": "[encoded data removed]",
      "text/plain": [
       "<Figure size 640x480 with 1 Axes>"
      ]
     },
     "metadata": {},
     "output_type": "display_data"
    }
   ],
   "source": [
    "from sklearn.ensemble import RandomForestClassifier\n",
    "from sklearn.metrics import classification_report, confusion_matrix, roc_auc_score\n",
    "\n",
    "# create a pipeline to vectorize the text and perform PCA\n",
    "pipeline = Pipeline([\n",
    "    ('vectorizer', TfidfVectorizer()),\n",
    "    ('svd', TruncatedSVD(n_components=2)),\n",
    "    ('classifier', LogisticRegression())\n",
    "])\n",
    "\n",
    "text_data_train, text_data_test, labels_train, labels_test = train_test_split(\n",
    "    text_data, labels, test_size=0.2, random_state=42\n",
    ")\n",
    "\n",
    "pipeline = Pipeline([\n",
    "    ('vectorizer', TfidfVectorizer()),\n",
    "    ('svd', TruncatedSVD(n_components=2)),\n",
    "    ('classifier', RandomForestClassifier())\n",
    "])\n",
    "\n",
    "# fit the pipeline to the text data and labels\n",
    "pipeline.fit(text_data, labels)\n",
    "\n",
    "score = pipeline.score(text_data_test, labels_test)\n",
    "print(\"Test accuracy:\", score)\n",
    "\n",
    "predictions = pipeline.predict(text_data_test)\n",
    "\n",
    "# print the classification report\n",
    "print(classification_report(labels_test, predictions))\n",
    "print(\"ROC-AUC:\", roc_auc_score(labels_test, predictions))\n",
    "\n",
    "classifier = pipeline.named_steps['classifier']\n",
    "importances = classifier.feature_importances_\n",
    "plt.bar(range(importances.shape[0]), importances)\n",
    "plt.xlabel(\"feature index\")\n",
    "plt.ylabel(\"feature importance\")\n",
    "plt.show()\n"
   ]
  },
  {
   "cell_type": "code",
   "execution_count": 87,
   "metadata": {},
   "outputs": [
    {
     "data": {
      "image/png": "[encoded data removed]",
      "text/plain": [
       "<Figure size 640x480 with 2 Axes>"
      ]
     },
     "metadata": {},
     "output_type": "display_data"
    }
   ],
   "source": [
    "from sklearn.metrics import confusion_matrix\n",
    "import matplotlib.pyplot as plt\n",
    "import seaborn as sns\n",
    "\n",
    "# Generate the confusion matrix\n",
    "cm = confusion_matrix(labels_test, predictions)\n",
    "\n",
    "# Plot the confusion matrix\n",
    "sns.heatmap(cm, annot=True, fmt='d', cmap='Set1')\n",
    "plt.xlabel(\"Predicted Label\")\n",
    "plt.ylabel(\"True Label\")\n",
    "plt.title(\"Confusion Matrix\")\n",
    "plt.show()"
   ]
  },
  {
   "cell_type": "code",
   "execution_count": 103,
   "metadata": {},
   "outputs": [
    {
     "ename": "ValueError",
     "evalue": "Found input variables with inconsistent numbers of samples: [18, 14]",
     "output_type": "error",
     "traceback": [
      "\u001b[1;31m---------------------------------------------------------------------------\u001b[0m",
      "\u001b[1;31mValueError\u001b[0m                                Traceback (most recent call last)",
      "Cell \u001b[1;32mIn [103], line 22\u001b[0m\n\u001b[0;32m     16\u001b[0m pipeline \u001b[39m=\u001b[39m Pipeline([\n\u001b[0;32m     17\u001b[0m     (\u001b[39m'\u001b[39m\u001b[39msvd\u001b[39m\u001b[39m'\u001b[39m, TruncatedSVD(n_components\u001b[39m=\u001b[39m\u001b[39m2\u001b[39m)),\n\u001b[0;32m     18\u001b[0m     (\u001b[39m'\u001b[39m\u001b[39mclassifier\u001b[39m\u001b[39m'\u001b[39m, RandomForestClassifier())\n\u001b[0;32m     19\u001b[0m ])\n\u001b[0;32m     21\u001b[0m \u001b[39m# Fit the pipeline on your text data\u001b[39;00m\n\u001b[1;32m---> 22\u001b[0m pipeline\u001b[39m.\u001b[39;49mfit(X_vect, y_train)\n\u001b[0;32m     24\u001b[0m \u001b[39m# Access the feature names from the TfidfVectorizer\u001b[39;00m\n\u001b[0;32m     25\u001b[0m vectorizer \u001b[39m=\u001b[39m pipeline\u001b[39m.\u001b[39mnamed_steps[\u001b[39m'\u001b[39m\u001b[39mvectorizer\u001b[39m\u001b[39m'\u001b[39m]\n",
      "File \u001b[1;32mc:\\Users\\KSpicer\\Anaconda3\\envs\\python311\\Lib\\site-packages\\sklearn\\pipeline.py:405\u001b[0m, in \u001b[0;36mPipeline.fit\u001b[1;34m(self, X, y, **fit_params)\u001b[0m\n\u001b[0;32m    403\u001b[0m     \u001b[39mif\u001b[39;00m \u001b[39mself\u001b[39m\u001b[39m.\u001b[39m_final_estimator \u001b[39m!=\u001b[39m \u001b[39m\"\u001b[39m\u001b[39mpassthrough\u001b[39m\u001b[39m\"\u001b[39m:\n\u001b[0;32m    404\u001b[0m         fit_params_last_step \u001b[39m=\u001b[39m fit_params_steps[\u001b[39mself\u001b[39m\u001b[39m.\u001b[39msteps[\u001b[39m-\u001b[39m\u001b[39m1\u001b[39m][\u001b[39m0\u001b[39m]]\n\u001b[1;32m--> 405\u001b[0m         \u001b[39mself\u001b[39;49m\u001b[39m.\u001b[39;49m_final_estimator\u001b[39m.\u001b[39;49mfit(Xt, y, \u001b[39m*\u001b[39;49m\u001b[39m*\u001b[39;49mfit_params_last_step)\n\u001b[0;32m    407\u001b[0m \u001b[39mreturn\u001b[39;00m \u001b[39mself\u001b[39m\n",
      "File \u001b[1;32mc:\\Users\\KSpicer\\Anaconda3\\envs\\python311\\Lib\\site-packages\\sklearn\\ensemble\\_forest.py:345\u001b[0m, in \u001b[0;36mBaseForest.fit\u001b[1;34m(self, X, y, sample_weight)\u001b[0m\n\u001b[0;32m    343\u001b[0m \u001b[39mif\u001b[39;00m issparse(y):\n\u001b[0;32m    344\u001b[0m     \u001b[39mraise\u001b[39;00m \u001b[39mValueError\u001b[39;00m(\u001b[39m\"\u001b[39m\u001b[39msparse multilabel-indicator for y is not supported.\u001b[39m\u001b[39m\"\u001b[39m)\n\u001b[1;32m--> 345\u001b[0m X, y \u001b[39m=\u001b[39m \u001b[39mself\u001b[39;49m\u001b[39m.\u001b[39;49m_validate_data(\n\u001b[0;32m    346\u001b[0m     X, y, multi_output\u001b[39m=\u001b[39;49m\u001b[39mTrue\u001b[39;49;00m, accept_sparse\u001b[39m=\u001b[39;49m\u001b[39m\"\u001b[39;49m\u001b[39mcsc\u001b[39;49m\u001b[39m\"\u001b[39;49m, dtype\u001b[39m=\u001b[39;49mDTYPE\n\u001b[0;32m    347\u001b[0m )\n\u001b[0;32m    348\u001b[0m \u001b[39mif\u001b[39;00m sample_weight \u001b[39mis\u001b[39;00m \u001b[39mnot\u001b[39;00m \u001b[39mNone\u001b[39;00m:\n\u001b[0;32m    349\u001b[0m     sample_weight \u001b[39m=\u001b[39m _check_sample_weight(sample_weight, X)\n",
      "File \u001b[1;32mc:\\Users\\KSpicer\\Anaconda3\\envs\\python311\\Lib\\site-packages\\sklearn\\base.py:565\u001b[0m, in \u001b[0;36mBaseEstimator._validate_data\u001b[1;34m(self, X, y, reset, validate_separately, **check_params)\u001b[0m\n\u001b[0;32m    563\u001b[0m         y \u001b[39m=\u001b[39m check_array(y, input_name\u001b[39m=\u001b[39m\u001b[39m\"\u001b[39m\u001b[39my\u001b[39m\u001b[39m\"\u001b[39m, \u001b[39m*\u001b[39m\u001b[39m*\u001b[39mcheck_y_params)\n\u001b[0;32m    564\u001b[0m     \u001b[39melse\u001b[39;00m:\n\u001b[1;32m--> 565\u001b[0m         X, y \u001b[39m=\u001b[39m check_X_y(X, y, \u001b[39m*\u001b[39;49m\u001b[39m*\u001b[39;49mcheck_params)\n\u001b[0;32m    566\u001b[0m     out \u001b[39m=\u001b[39m X, y\n\u001b[0;32m    568\u001b[0m \u001b[39mif\u001b[39;00m \u001b[39mnot\u001b[39;00m no_val_X \u001b[39mand\u001b[39;00m check_params\u001b[39m.\u001b[39mget(\u001b[39m\"\u001b[39m\u001b[39mensure_2d\u001b[39m\u001b[39m\"\u001b[39m, \u001b[39mTrue\u001b[39;00m):\n",
      "File \u001b[1;32mc:\\Users\\KSpicer\\Anaconda3\\envs\\python311\\Lib\\site-packages\\sklearn\\utils\\validation.py:1124\u001b[0m, in \u001b[0;36mcheck_X_y\u001b[1;34m(X, y, accept_sparse, accept_large_sparse, dtype, order, copy, force_all_finite, ensure_2d, allow_nd, multi_output, ensure_min_samples, ensure_min_features, y_numeric, estimator)\u001b[0m\n\u001b[0;32m   1106\u001b[0m X \u001b[39m=\u001b[39m check_array(\n\u001b[0;32m   1107\u001b[0m     X,\n\u001b[0;32m   1108\u001b[0m     accept_sparse\u001b[39m=\u001b[39maccept_sparse,\n\u001b[1;32m   (...)\u001b[0m\n\u001b[0;32m   1119\u001b[0m     input_name\u001b[39m=\u001b[39m\u001b[39m\"\u001b[39m\u001b[39mX\u001b[39m\u001b[39m\"\u001b[39m,\n\u001b[0;32m   1120\u001b[0m )\n\u001b[0;32m   1122\u001b[0m y \u001b[39m=\u001b[39m _check_y(y, multi_output\u001b[39m=\u001b[39mmulti_output, y_numeric\u001b[39m=\u001b[39my_numeric, estimator\u001b[39m=\u001b[39mestimator)\n\u001b[1;32m-> 1124\u001b[0m check_consistent_length(X, y)\n\u001b[0;32m   1126\u001b[0m \u001b[39mreturn\u001b[39;00m X, y\n",
      "File \u001b[1;32mc:\\Users\\KSpicer\\Anaconda3\\envs\\python311\\Lib\\site-packages\\sklearn\\utils\\validation.py:397\u001b[0m, in \u001b[0;36mcheck_consistent_length\u001b[1;34m(*arrays)\u001b[0m\n\u001b[0;32m    395\u001b[0m uniques \u001b[39m=\u001b[39m np\u001b[39m.\u001b[39munique(lengths)\n\u001b[0;32m    396\u001b[0m \u001b[39mif\u001b[39;00m \u001b[39mlen\u001b[39m(uniques) \u001b[39m>\u001b[39m \u001b[39m1\u001b[39m:\n\u001b[1;32m--> 397\u001b[0m     \u001b[39mraise\u001b[39;00m \u001b[39mValueError\u001b[39;00m(\n\u001b[0;32m    398\u001b[0m         \u001b[39m\"\u001b[39m\u001b[39mFound input variables with inconsistent numbers of samples: \u001b[39m\u001b[39m%r\u001b[39;00m\u001b[39m\"\u001b[39m\n\u001b[0;32m    399\u001b[0m         \u001b[39m%\u001b[39m [\u001b[39mint\u001b[39m(l) \u001b[39mfor\u001b[39;00m l \u001b[39min\u001b[39;00m lengths]\n\u001b[0;32m    400\u001b[0m     )\n",
      "\u001b[1;31mValueError\u001b[0m: Found input variables with inconsistent numbers of samples: [18, 14]"
     ]
    }
   ],
   "source": [
    "import pandas as pd\n",
    "import numpy as np\n",
    "from sklearn.pipeline import Pipeline\n",
    "from sklearn.ensemble import RandomForestClassifier\n",
    "from sklearn.feature_extraction.text import TfidfVectorizer\n",
    "\n",
    "X_train, X_test, y_train, y_test = train_test_split(\n",
    "    text_data, labels, test_size=\n",
    "    0.2, random_state=42\n",
    ")\n",
    "\n",
    "vectorizer = TfidfVectorizer()\n",
    "X_vect = vectorizer.fit_transform(text_data)\n",
    "\n",
    "# Define the pipeline\n",
    "pipeline = Pipeline([\n",
    "    ('svd', TruncatedSVD(n_components=2)),\n",
    "    ('classifier', RandomForestClassifier())\n",
    "])\n",
    "\n",
    "# Fit the pipeline on your text data\n",
    "pipeline.fit(X_vect, y_train)\n",
    "\n",
    "# Access the feature names from the TfidfVectorizer\n",
    "vectorizer = pipeline.named_steps['vectorizer']\n",
    "feature_names = vectorizer.get_feature_names()\n",
    "\n",
    "# Access the feature importances from the classifier\n",
    "classifier = pipeline.named_steps['classifier']\n",
    "importances = classifier.feature_importances_\n",
    "\n",
    "# Create a DataFrame to visualize the feature importances\n",
    "importance_df = pd.DataFrame({'feature': feature_names, 'importance': importances})\n",
    "\n",
    "# Sort the features by importance\n",
    "importance_df.sort_values(by='importance', ascending=False, inplace=True)\n",
    "\n",
    "# Print the top 10 most important features\n",
    "print(importance_df.head(10))\n"
   ]
  },
  {
   "cell_type": "code",
   "execution_count": null,
   "metadata": {},
   "outputs": [],
   "source": []
  }
 ],
 "metadata": {
  "kernelspec": {
   "display_name": "python311",
   "language": "python",
   "name": "python3"
  },
  "language_info": {
   "codemirror_mode": {
    "name": "ipython",
    "version": 3
   },
   "file_extension": ".py",
   "mimetype": "text/x-python",
   "name": "python",
   "nbconvert_exporter": "python",
   "pygments_lexer": "ipython3",
   "version": "3.11.0"
  },
  "orig_nbformat": 4,
  "vscode": {
   "interpreter": {
    "hash": "4159a6653fa75438f66a7bfc0596de9be5c1734cbef8b4e22353e9d3f86b82c0"
   }
  }
 },
 "nbformat": 4,
 "nbformat_minor": 2
}
