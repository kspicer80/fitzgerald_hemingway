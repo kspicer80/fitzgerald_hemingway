{
 "cells": [
  {
   "cell_type": "code",
   "execution_count": 1,
   "metadata": {},
   "outputs": [],
   "source": [
    "import os\n",
    "import seaborn as sns\n",
    "import matplotlib.pyplot as plt\n",
    "import pandas as pd\n",
    "from sklearn.linear_model import LogisticRegression\n",
    "from sklearn.pipeline import Pipeline\n",
    "from sklearn.feature_extraction.text import CountVectorizer\n",
    "from sklearn.feature_extraction.text import TfidfTransformer\n",
    "from sklearn.model_selection import train_test_split\n",
    "from sklearn.metrics import classification_report, confusion_matrix, accuracy_score"
   ]
  },
  {
   "cell_type": "code",
   "execution_count": 2,
   "metadata": {},
   "outputs": [],
   "source": [
    "def load_data(folder_path):\n",
    "    root_folder = folder_path\n",
    "\n",
    "    #filenames = []\n",
    "    text_data = [] # Replace with the text data\n",
    "    labels = [] # Replace with the corresponding labels (0 or 1)\n",
    "\n",
    "    for subfolder in os.listdir(root_folder):\n",
    "        subfolder_path = os.path.join(root_folder, subfolder)\n",
    "\n",
    "        if subfolder == 'fitzgerald':\n",
    "            label = 0\n",
    "        else:\n",
    "            label = 1\n",
    "\n",
    "        for file in os.listdir(subfolder_path):\n",
    "            file_path = os.path.join(subfolder_path, file)\n",
    "            print(\"Processing file:\", file)\n",
    "            with open(file_path, 'r', encoding=\"utf-8\") as f:\n",
    "                text = f.read()\n",
    "            #filenames.append(file_path)\n",
    "            text_data.append(text)\n",
    "            labels.append(label)\n",
    "    return text_data, labels"
   ]
  },
  {
   "cell_type": "code",
   "execution_count": 3,
   "metadata": {},
   "outputs": [
    {
     "name": "stdout",
     "output_type": "stream",
     "text": [
      "Processing file: fitzgerald_all_the_sad.txt\n",
      "Processing file: fitzgerald_bablyon_revisited.txt\n",
      "Processing file: fitzgerald_beautiful_and_damned.txt\n",
      "Processing file: fitzgerald_flappers_and_philosophers.txt\n",
      "Processing file: fitzgerald_gatsby.txt\n",
      "Processing file: fitzgerald_tales_jazz_age.txt\n",
      "Processing file: fitzgerald_tender_is.txt\n",
      "Processing file: fitzgerald_the_vegtable.txt\n",
      "Processing file: fitzgerald_this_side.txt\n",
      "Processing file: hemingway_across_the_river.txt\n",
      "Processing file: hemingway_bell_tolls.txt\n",
      "Processing file: hemingway_farewell.txt\n",
      "Processing file: hemingway_green_hills_africa.txt\n",
      "Processing file: hemingway_in_our_time.txt\n",
      "Processing file: hemingway_men_without_women.txt\n",
      "Processing file: hemingway_old_man.txt\n",
      "Processing file: hemingway_sun_also.txt\n",
      "Processing file: hemingway_three_stories_ten_poems.txt\n",
      "Processing file: hemingway_winner_take_nothing.txt\n"
     ]
    }
   ],
   "source": [
    "text_data, labels = load_data(r'C:\\Users\\KSpicer\\Documents\\GitHub\\fitzgerald_hemingway\\data')\n",
    "df = pd.DataFrame(list(zip(text_data, labels)), columns=['text_data', 'label'])\n",
    "\n",
    "X = df['text_data']\n",
    "y = df['label']\n",
    "\n",
    "# Split the data into training and testing sets\n",
    "X_train, X_test, y_train, y_test = train_test_split(X, y, test_size=0.3, random_state=42)"
   ]
  },
  {
   "cell_type": "code",
   "execution_count": 4,
   "metadata": {},
   "outputs": [
    {
     "name": "stdout",
     "output_type": "stream",
     "text": [
      "accuracy 1.0\n",
      "              precision    recall  f1-score   support\n",
      "\n",
      "  fitzgerald       1.00      1.00      1.00         4\n",
      "   hemingway       1.00      1.00      1.00         2\n",
      "\n",
      "    accuracy                           1.00         6\n",
      "   macro avg       1.00      1.00      1.00         6\n",
      "weighted avg       1.00      1.00      1.00         6\n",
      "\n"
     ]
    }
   ],
   "source": [
    "from sklearn.linear_model import LogisticRegression\n",
    "\n",
    "logreg = Pipeline([('vect', CountVectorizer()),\n",
    "                ('tfidf', TfidfTransformer()),\n",
    "                ('clf', LogisticRegression(n_jobs=1, C=1e5)),\n",
    "               ])\n",
    "logreg.fit(X_train, y_train)\n",
    "\n",
    "y_pred = logreg.predict(X_test)\n",
    "\n",
    "print('accuracy %s' % accuracy_score(y_pred, y_test))\n",
    "print(classification_report(y_test, y_pred, target_names=['fitzgerald', 'hemingway']))"
   ]
  },
  {
   "cell_type": "code",
   "execution_count": 5,
   "metadata": {},
   "outputs": [
    {
     "data": {
      "image/png": "[encoded data removed]",
      "text/plain": [
       "<Figure size 640x480 with 2 Axes>"
      ]
     },
     "metadata": {},
     "output_type": "display_data"
    }
   ],
   "source": [
    "# Compute the confusion matrix\n",
    "cm = confusion_matrix(y_test, y_pred)\n",
    "\n",
    "# create a list of class labels\n",
    "classes = ['fitzgerald', 'hemingway']\n",
    "\n",
    "# plot the confusion matrix\n",
    "sns.heatmap(cm, annot=True, fmt='d', cmap='viridis', xticklabels=classes, yticklabels=classes)\n",
    "\n",
    "# add axis labels and title\n",
    "plt.xlabel('Predicted Label')\n",
    "plt.ylabel('True Label')\n",
    "plt.title('Confusion Matrix')\n",
    "plt.show()"
   ]
  },
  {
   "cell_type": "code",
   "execution_count": null,
   "metadata": {},
   "outputs": [],
   "source": []
  }
 ],
 "metadata": {
  "kernelspec": {
   "display_name": "python311",
   "language": "python",
   "name": "python3"
  },
  "language_info": {
   "codemirror_mode": {
    "name": "ipython",
    "version": 3
   },
   "file_extension": ".py",
   "mimetype": "text/x-python",
   "name": "python",
   "nbconvert_exporter": "python",
   "pygments_lexer": "ipython3",
   "version": "3.11.0"
  },
  "orig_nbformat": 4,
  "vscode": {
   "interpreter": {
    "hash": "4159a6653fa75438f66a7bfc0596de9be5c1734cbef8b4e22353e9d3f86b82c0"
   }
  }
 },
 "nbformat": 4,
 "nbformat_minor": 2
}
