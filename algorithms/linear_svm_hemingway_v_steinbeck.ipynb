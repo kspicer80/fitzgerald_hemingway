{
 "cells": [
  {
   "cell_type": "code",
   "execution_count": 1,
   "metadata": {},
   "outputs": [],
   "source": [
    "import os\n",
    "import seaborn as sns\n",
    "import matplotlib.pyplot as plt\n",
    "import pandas as pd\n",
    "from sklearn.linear_model import SGDClassifier\n",
    "from sklearn.pipeline import Pipeline\n",
    "from sklearn.feature_extraction.text import CountVectorizer\n",
    "from sklearn.feature_extraction.text import TfidfTransformer\n",
    "from sklearn.model_selection import train_test_split\n",
    "from sklearn.metrics import classification_report, confusion_matrix, accuracy_score"
   ]
  },
  {
   "cell_type": "code",
   "execution_count": 2,
   "metadata": {},
   "outputs": [],
   "source": [
    "def load_data(folder_path):\n",
    "    root_folder = folder_path\n",
    "\n",
    "    #filenames = []\n",
    "    text_data = [] # Replace with the text data\n",
    "    labels = [] # Replace with the corresponding labels (0 or 1)\n",
    "\n",
    "    for subfolder in os.listdir(root_folder):\n",
    "        subfolder_path = os.path.join(root_folder, subfolder)\n",
    "\n",
    "        if subfolder == 'hemingway':\n",
    "            label = 1\n",
    "        else:\n",
    "            label = 0\n",
    "\n",
    "        for file in os.listdir(subfolder_path):\n",
    "            file_path = os.path.join(subfolder_path, file)\n",
    "            print(\"Processing file:\", file)\n",
    "            with open(file_path, 'r', encoding=\"utf-8\") as f:\n",
    "                text = f.read()\n",
    "            #filenames.append(file_path)\n",
    "            text_data.append(text)\n",
    "            labels.append(label)\n",
    "    return text_data, labels"
   ]
  },
  {
   "cell_type": "code",
   "execution_count": 3,
   "metadata": {},
   "outputs": [],
   "source": [
    "def load_just_hemingway_and_steinbeck(folder_path):\n",
    "    root_folder = folder_path\n",
    "\n",
    "    #filenames = []\n",
    "    text_data = [] # Replace with the text data\n",
    "    labels = [] # Replace with the corresponding labels (0 or 1)\n",
    "\n",
    "    for subfolder in os.listdir(root_folder):\n",
    "        if subfolder == 'fitzgerald':\n",
    "            continue\n",
    "        subfolder_path = os.path.join(root_folder, subfolder)\n",
    "\n",
    "        if subfolder == 'hemingway':\n",
    "            label = 1\n",
    "        else:\n",
    "            label = 0\n",
    "\n",
    "        for file in os.listdir(subfolder_path):\n",
    "            file_path = os.path.join(subfolder_path, file)\n",
    "            print(\"Processing file:\", file)\n",
    "            with open(file_path, 'r', encoding=\"utf-8\") as f:\n",
    "                text = f.read()\n",
    "            #filenames.append(file_path)\n",
    "            text_data.append(text)\n",
    "            labels.append(label)\n",
    "    return text_data, labels"
   ]
  },
  {
   "cell_type": "code",
   "execution_count": 4,
   "metadata": {},
   "outputs": [
    {
     "name": "stdout",
     "output_type": "stream",
     "text": [
      "Processing file: fitzgerald_all_the_sad.txt\n",
      "Processing file: fitzgerald_bablyon_revisited.txt\n",
      "Processing file: fitzgerald_beautiful_and_damned.txt\n",
      "Processing file: fitzgerald_flappers_and_philosophers.txt\n",
      "Processing file: fitzgerald_gatsby.txt\n",
      "Processing file: fitzgerald_tales_jazz_age.txt\n",
      "Processing file: fitzgerald_tender_is.txt\n",
      "Processing file: fitzgerald_the_vegtable.txt\n",
      "Processing file: fitzgerald_this_side.txt\n",
      "Processing file: hemingway_across_the_river.txt\n",
      "Processing file: hemingway_bell_tolls.txt\n",
      "Processing file: hemingway_collected_stories.txt\n",
      "Processing file: hemingway_farewell.txt\n",
      "Processing file: hemingway_green_hills_africa.txt\n",
      "Processing file: hemingway_in_our_time.txt\n",
      "Processing file: hemingway_men_without_women.txt\n",
      "Processing file: hemingway_old_man.txt\n",
      "Processing file: hemingway_sun_also.txt\n",
      "Processing file: hemingway_ten_poems.txt\n",
      "Processing file: hemingway_winner_take_nothing.txt\n",
      "Processing file: steinbeck_cannery_row.txt\n",
      "Processing file: steinbeck_east_of_eden.txt\n",
      "Processing file: steinbeck_grapes.txt\n",
      "Processing file: steinbeck_of_mice.txt\n",
      "Processing file: steinbeck_the_pearl.txt\n",
      "Processing file: steinbeck_the_red_pony.txt\n"
     ]
    }
   ],
   "source": [
    "text_data, labels = load_data(r'C:\\Users\\KSpicer\\Documents\\GitHub\\fitzgerald_hemingway\\data')\n",
    "df = pd.DataFrame(list(zip(text_data, labels)), columns=['text_data', 'label'])\n",
    "\n",
    "X = df['text_data']\n",
    "y = df['label']\n",
    "\n",
    "# Split the data into training and testing sets\n",
    "X_train, X_test, y_train, y_test = train_test_split(X, y, test_size=0.3, random_state=42)"
   ]
  },
  {
   "cell_type": "code",
   "execution_count": 5,
   "metadata": {},
   "outputs": [],
   "source": [
    "# Train a Linear SVM model\n",
    "sgd = Pipeline([('vect', CountVectorizer()),\n",
    "                ('tfidf', TfidfTransformer()),\n",
    "                ('clf', SGDClassifier(loss='hinge', penalty='l2',alpha=1e-3, random_state=42, max_iter=5, tol=None)),\n",
    "               ])\n",
    "sgd.fit(X_train, y_train)\n",
    "y_pred = sgd.predict(X_test)     "
   ]
  },
  {
   "cell_type": "code",
   "execution_count": 6,
   "metadata": {},
   "outputs": [
    {
     "data": {
      "text/plain": [
       "array([0, 0, 0, 0, 0, 0, 0, 0], dtype=int64)"
      ]
     },
     "execution_count": 6,
     "metadata": {},
     "output_type": "execute_result"
    }
   ],
   "source": [
    "y_pred"
   ]
  },
  {
   "cell_type": "code",
   "execution_count": 7,
   "metadata": {},
   "outputs": [
    {
     "name": "stdout",
     "output_type": "stream",
     "text": [
      "accuracy 0.5\n",
      "              precision    recall  f1-score   support\n",
      "\n",
      "   hemignway       0.50      1.00      0.67         4\n",
      "   steinbeck       0.00      0.00      0.00         4\n",
      "\n",
      "    accuracy                           0.50         8\n",
      "   macro avg       0.25      0.50      0.33         8\n",
      "weighted avg       0.25      0.50      0.33         8\n",
      "\n"
     ]
    },
    {
     "name": "stderr",
     "output_type": "stream",
     "text": [
      "c:\\Users\\KSpicer\\Anaconda3\\envs\\python311\\Lib\\site-packages\\sklearn\\metrics\\_classification.py:1344: UndefinedMetricWarning: Precision and F-score are ill-defined and being set to 0.0 in labels with no predicted samples. Use `zero_division` parameter to control this behavior.\n",
      "  _warn_prf(average, modifier, msg_start, len(result))\n",
      "c:\\Users\\KSpicer\\Anaconda3\\envs\\python311\\Lib\\site-packages\\sklearn\\metrics\\_classification.py:1344: UndefinedMetricWarning: Precision and F-score are ill-defined and being set to 0.0 in labels with no predicted samples. Use `zero_division` parameter to control this behavior.\n",
      "  _warn_prf(average, modifier, msg_start, len(result))\n",
      "c:\\Users\\KSpicer\\Anaconda3\\envs\\python311\\Lib\\site-packages\\sklearn\\metrics\\_classification.py:1344: UndefinedMetricWarning: Precision and F-score are ill-defined and being set to 0.0 in labels with no predicted samples. Use `zero_division` parameter to control this behavior.\n",
      "  _warn_prf(average, modifier, msg_start, len(result))\n"
     ]
    }
   ],
   "source": [
    "# Evaluate the model on the testing set\n",
    "print('accuracy %s' % accuracy_score(y_pred, y_test))\n",
    "print(classification_report(y_test, y_pred, target_names=['hemignway', 'steinbeck']))"
   ]
  },
  {
   "cell_type": "code",
   "execution_count": 8,
   "metadata": {},
   "outputs": [
    {
     "data": {
      "image/png": "[encoded data removed]",
      "text/plain": [
       "<Figure size 640x480 with 2 Axes>"
      ]
     },
     "metadata": {},
     "output_type": "display_data"
    }
   ],
   "source": [
    "# Compute the confusion matrix\n",
    "cm = confusion_matrix(y_test, y_pred)\n",
    "\n",
    "# create a list of class labels\n",
    "classes = ['hemingway', 'steinbeck']\n",
    "\n",
    "# plot the confusion matrix\n",
    "sns.heatmap(cm, annot=True, fmt='d', cmap='viridis', xticklabels=classes, yticklabels=classes)\n",
    "\n",
    "# add axis labels and title\n",
    "plt.xlabel('Predicted Label')\n",
    "plt.ylabel('True Label')\n",
    "plt.title('Confusion Matrix')\n",
    "plt.show()"
   ]
  },
  {
   "cell_type": "code",
   "execution_count": 9,
   "metadata": {},
   "outputs": [
    {
     "data": {
      "text/plain": [
       "'\\n# Define a new text sample to classify—Hemingway\\'s \"The Snows of Kilimanjaro\"\\nwith open(r\\'test_data\\\\hemingway_snows.txt\\') as f:\\n    new_text =  f.read()\\n\\n# Transform the new text sample into a bag-of-words representation\\nnew_counts = CountVectorizer.transform([new_text])\\n\\n# Use the trained model to predict the label of the new text sample\\nnew_pred = sgd.predict(new_text)\\n\\n# Print the predicted label\\nif new_pred == 1:\\n    print(\"The model predicts that this text is by Hemingway ...\")\\nelse:\\n    print(\"The model predicts that this text is by Fitzgerald ...\")\\n'"
      ]
     },
     "execution_count": 9,
     "metadata": {},
     "output_type": "execute_result"
    }
   ],
   "source": [
    "\n",
    "'''\n",
    "# Define a new text sample to classify—Hemingway's \"The Snows of Kilimanjaro\"\n",
    "with open(r'test_data\\hemingway_snows.txt') as f:\n",
    "    new_text =  f.read()\n",
    "\n",
    "# Transform the new text sample into a bag-of-words representation\n",
    "new_counts = CountVectorizer.transform([new_text])\n",
    "\n",
    "# Use the trained model to predict the label of the new text sample\n",
    "new_pred = sgd.predict(new_text)\n",
    "\n",
    "# Print the predicted label\n",
    "if new_pred == 1:\n",
    "    print(\"The model predicts that this text is by Hemingway ...\")\n",
    "else:\n",
    "    print(\"The model predicts that this text is by Fitzgerald ...\")\n",
    "'''"
   ]
  },
  {
   "cell_type": "code",
   "execution_count": 11,
   "metadata": {},
   "outputs": [
    {
     "ename": "FileNotFoundError",
     "evalue": "[Errno 2] No such file or directory: 'test_data/steinbeck_in_dubious_battle.txt'",
     "output_type": "error",
     "traceback": [
      "\u001b[1;31m---------------------------------------------------------------------------\u001b[0m",
      "\u001b[1;31mFileNotFoundError\u001b[0m                         Traceback (most recent call last)",
      "Cell \u001b[1;32mIn [11], line 2\u001b[0m\n\u001b[0;32m      1\u001b[0m \u001b[39m# Define a new text sample to classify Steinbeck's \"In Dubious Battle\"\u001b[39;00m\n\u001b[1;32m----> 2\u001b[0m \u001b[39mwith\u001b[39;00m \u001b[39mopen\u001b[39;49m(\u001b[39mr\u001b[39;49m\u001b[39m'\u001b[39;49m\u001b[39mtest_data/steinbeck_in_dubious_battle.txt\u001b[39;49m\u001b[39m'\u001b[39;49m) \u001b[39mas\u001b[39;00m f:\n\u001b[0;32m      3\u001b[0m     new_text \u001b[39m=\u001b[39m  f\u001b[39m.\u001b[39mread()\n\u001b[0;32m      5\u001b[0m \u001b[39m# Transform the new text sample into a bag-of-words representation\u001b[39;00m\n",
      "File \u001b[1;32mc:\\Users\\KSpicer\\Anaconda3\\envs\\python311\\Lib\\site-packages\\IPython\\core\\interactiveshell.py:282\u001b[0m, in \u001b[0;36m_modified_open\u001b[1;34m(file, *args, **kwargs)\u001b[0m\n\u001b[0;32m    275\u001b[0m \u001b[39mif\u001b[39;00m file \u001b[39min\u001b[39;00m {\u001b[39m0\u001b[39m, \u001b[39m1\u001b[39m, \u001b[39m2\u001b[39m}:\n\u001b[0;32m    276\u001b[0m     \u001b[39mraise\u001b[39;00m \u001b[39mValueError\u001b[39;00m(\n\u001b[0;32m    277\u001b[0m         \u001b[39mf\u001b[39m\u001b[39m\"\u001b[39m\u001b[39mIPython won\u001b[39m\u001b[39m'\u001b[39m\u001b[39mt let you open fd=\u001b[39m\u001b[39m{\u001b[39;00mfile\u001b[39m}\u001b[39;00m\u001b[39m by default \u001b[39m\u001b[39m\"\u001b[39m\n\u001b[0;32m    278\u001b[0m         \u001b[39m\"\u001b[39m\u001b[39mas it is likely to crash IPython. If you know what you are doing, \u001b[39m\u001b[39m\"\u001b[39m\n\u001b[0;32m    279\u001b[0m         \u001b[39m\"\u001b[39m\u001b[39myou can use builtins\u001b[39m\u001b[39m'\u001b[39m\u001b[39m open.\u001b[39m\u001b[39m\"\u001b[39m\n\u001b[0;32m    280\u001b[0m     )\n\u001b[1;32m--> 282\u001b[0m \u001b[39mreturn\u001b[39;00m io_open(file, \u001b[39m*\u001b[39;49margs, \u001b[39m*\u001b[39;49m\u001b[39m*\u001b[39;49mkwargs)\n",
      "\u001b[1;31mFileNotFoundError\u001b[0m: [Errno 2] No such file or directory: 'test_data/steinbeck_in_dubious_battle.txt'"
     ]
    }
   ],
   "source": [
    "# Define a new text sample to classify Steinbeck's \"In Dubious Battle\"\n",
    "with open(r'test_data/steinbeck_in_dubious_battle.txt') as f:\n",
    "    new_text =  f.read()\n",
    "\n",
    "# Transform the new text sample into a bag-of-words representation\n",
    "new_counts = CountVectorizer.transform([new_text])\n",
    "\n",
    "# Use the trained model to predict the label of the new text sample\n",
    "new_pred = sgd.predict(new_text)\n",
    "\n",
    "# Print the predicted label\n",
    "if new_pred == 1:\n",
    "    print(\"The model predicts that this text is by Hemingway ...\")\n",
    "else:\n",
    "    print(\"The model predicts that this text is by Steinbeck ...\")"
   ]
  },
  {
   "cell_type": "code",
   "execution_count": null,
   "metadata": {},
   "outputs": [],
   "source": []
  }
 ],
 "metadata": {
  "kernelspec": {
   "display_name": "python311",
   "language": "python",
   "name": "python3"
  },
  "language_info": {
   "codemirror_mode": {
    "name": "ipython",
    "version": 3
   },
   "file_extension": ".py",
   "mimetype": "text/x-python",
   "name": "python",
   "nbconvert_exporter": "python",
   "pygments_lexer": "ipython3",
   "version": "3.11.0"
  },
  "orig_nbformat": 4,
  "vscode": {
   "interpreter": {
    "hash": "4159a6653fa75438f66a7bfc0596de9be5c1734cbef8b4e22353e9d3f86b82c0"
   }
  }
 },
 "nbformat": 4,
 "nbformat_minor": 2
}
