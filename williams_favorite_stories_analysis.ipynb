{
 "cells": [
  {
   "cell_type": "code",
   "execution_count": 1,
   "metadata": {},
   "outputs": [],
   "source": [
    "import matplotlib.pyplot as plt\n",
    "import pandas as pd\n",
    "from pathlib import Path\n",
    "import spacy\n",
    "nlp = spacy.load('en_core_web_lg')"
   ]
  },
  {
   "cell_type": "code",
   "execution_count": 2,
   "metadata": {},
   "outputs": [
    {
     "name": "stdout",
     "output_type": "stream",
     "text": [
      "                     filename  \\\n",
      "0  hills_like_white_elephants   \n",
      "1                 the_killers   \n",
      "2          in_another_country   \n",
      "3       old_man_at_the_bridge   \n",
      "\n",
      "                                                data  \n",
      "0  \fHills Like White Elephants\\n\\nTHE HILLS ACROS...  \n",
      "1  \fThe Killers\\n\\nTHE\\n\\nDOOR OF HENRY’S LUNCH-R...  \n",
      "2  \fIn Another Country\\n\\nIN THE FALL THE WAR WAS...  \n",
      "3  \fOld Man at the Bridge\\n\\nAN OLD MAN WITH STEE...  \n"
     ]
    }
   ],
   "source": [
    "# Get the path to the directory containing the text files\n",
    "dir_path = Path('williams_four_key_hemingway_stories')\n",
    "\n",
    "# Find all the text files in the directory and create a list of their paths\n",
    "file_paths = list(dir_path.glob('*.txt'))\n",
    "\n",
    "# Create an empty list to hold the data from each file\n",
    "data = []\n",
    "\n",
    "# Loop over each file and extract the file name (without extension) and data\n",
    "for file_path in file_paths:\n",
    "    # Get the file name (without extension)\n",
    "    file_name = file_path.stem\n",
    "    \n",
    "    # Read in the file data\n",
    "    with open(file_path, 'r') as f:\n",
    "        file_data = f.read()\n",
    "    \n",
    "    # Append the file name and data to the data list\n",
    "    data.append((file_name, file_data))\n",
    "    \n",
    "# Convert the data list to a pandas DataFrame\n",
    "df = pd.DataFrame(data, columns=['filename', 'data'])\n",
    "\n",
    "# Print the DataFrame\n",
    "print(df)"
   ]
  },
  {
   "cell_type": "code",
   "execution_count": 3,
   "metadata": {},
   "outputs": [],
   "source": [
    "df['data'] = df['data'].str.replace('\\n', '')"
   ]
  },
  {
   "cell_type": "code",
   "execution_count": 4,
   "metadata": {},
   "outputs": [],
   "source": [
    "df['NLP'] = df['data'].apply(lambda x: nlp(x))"
   ]
  },
  {
   "cell_type": "code",
   "execution_count": 5,
   "metadata": {},
   "outputs": [
    {
     "data": {
      "text/html": [
       "<div>\n",
       "<style scoped>\n",
       "    .dataframe tbody tr th:only-of-type {\n",
       "        vertical-align: middle;\n",
       "    }\n",
       "\n",
       "    .dataframe tbody tr th {\n",
       "        vertical-align: top;\n",
       "    }\n",
       "\n",
       "    .dataframe thead th {\n",
       "        text-align: right;\n",
       "    }\n",
       "</style>\n",
       "<table border=\"1\" class=\"dataframe\">\n",
       "  <thead>\n",
       "    <tr style=\"text-align: right;\">\n",
       "      <th></th>\n",
       "      <th>filename</th>\n",
       "      <th>data</th>\n",
       "      <th>NLP</th>\n",
       "    </tr>\n",
       "  </thead>\n",
       "  <tbody>\n",
       "    <tr>\n",
       "      <th>0</th>\n",
       "      <td>hills_like_white_elephants</td>\n",
       "      <td>Hills Like White ElephantsTHE HILLS ACROSS TH...</td>\n",
       "      <td>(\f, Hills, Like, White, ElephantsTHE, HILLS, A...</td>\n",
       "    </tr>\n",
       "    <tr>\n",
       "      <th>1</th>\n",
       "      <td>the_killers</td>\n",
       "      <td>The KillersTHEDOOR OF HENRY’S LUNCH-ROOMopene...</td>\n",
       "      <td>(\f, The, KillersTHEDOOR, OF, HENRY, ’S, LUNCH,...</td>\n",
       "    </tr>\n",
       "    <tr>\n",
       "      <th>2</th>\n",
       "      <td>in_another_country</td>\n",
       "      <td>In Another CountryIN THE FALL THE WAR WAS ALW...</td>\n",
       "      <td>(\f, In, Another, CountryIN, THE, FALL, THE, WA...</td>\n",
       "    </tr>\n",
       "    <tr>\n",
       "      <th>3</th>\n",
       "      <td>old_man_at_the_bridge</td>\n",
       "      <td>Old Man at the BridgeAN OLD MAN WITH STEEL RI...</td>\n",
       "      <td>(\f, Old, Man, at, the, BridgeAN, OLD, MAN, WIT...</td>\n",
       "    </tr>\n",
       "  </tbody>\n",
       "</table>\n",
       "</div>"
      ],
      "text/plain": [
       "                     filename  \\\n",
       "0  hills_like_white_elephants   \n",
       "1                 the_killers   \n",
       "2          in_another_country   \n",
       "3       old_man_at_the_bridge   \n",
       "\n",
       "                                                data  \\\n",
       "0  \n",
       "Hills Like White ElephantsTHE HILLS ACROSS TH...   \n",
       "1  \n",
       "The KillersTHEDOOR OF HENRY’S LUNCH-ROOMopene...   \n",
       "2  \n",
       "In Another CountryIN THE FALL THE WAR WAS ALW...   \n",
       "3  \n",
       "Old Man at the BridgeAN OLD MAN WITH STEEL RI...   \n",
       "\n",
       "                                                 NLP  \n",
       "0  (\n",
       ", Hills, Like, White, ElephantsTHE, HILLS, A...  \n",
       "1  (\n",
       ", The, KillersTHEDOOR, OF, HENRY, ’S, LUNCH,...  \n",
       "2  (\n",
       ", In, Another, CountryIN, THE, FALL, THE, WA...  \n",
       "3  (\n",
       ", Old, Man, at, the, BridgeAN, OLD, MAN, WIT...  "
      ]
     },
     "execution_count": 5,
     "metadata": {},
     "output_type": "execute_result"
    }
   ],
   "source": [
    "df.head()"
   ]
  },
  {
   "cell_type": "code",
   "execution_count": 17,
   "metadata": {},
   "outputs": [
    {
     "ename": "TypeError",
     "evalue": "unsupported operand type(s) for /: 'dict' and 'int'",
     "output_type": "error",
     "traceback": [
      "\u001b[0;31m---------------------------------------------------------------------------\u001b[0m",
      "\u001b[0;31mTypeError\u001b[0m                                 Traceback (most recent call last)",
      "\u001b[1;32m/Users/spicy.kev/Documents/github/fitzgerald_hemingway/williams_favorite_stories_analysis.ipynb Cell 6\u001b[0m in \u001b[0;36m<cell line: 1>\u001b[0;34m()\u001b[0m\n\u001b[1;32m      <a href='vscode-notebook-cell:/Users/spicy.kev/Documents/github/fitzgerald_hemingway/williams_favorite_stories_analysis.ipynb#X30sZmlsZQ%3D%3D?line=1'>2</a>\u001b[0m tagDict \u001b[39m=\u001b[39m {w\u001b[39m.\u001b[39mpos: w\u001b[39m.\u001b[39mpos_ \u001b[39mfor\u001b[39;00m w \u001b[39min\u001b[39;00m row[\u001b[39m'\u001b[39m\u001b[39mNLP\u001b[39m\u001b[39m'\u001b[39m]}\n\u001b[1;32m      <a href='vscode-notebook-cell:/Users/spicy.kev/Documents/github/fitzgerald_hemingway/williams_favorite_stories_analysis.ipynb#X30sZmlsZQ%3D%3D?line=2'>3</a>\u001b[0m extendedTagDict \u001b[39m=\u001b[39m {w\u001b[39m.\u001b[39mpos: w\u001b[39m.\u001b[39mpos_ \u001b[39m+\u001b[39m \u001b[39m\"\u001b[39m\u001b[39m_\u001b[39m\u001b[39m\"\u001b[39m \u001b[39m+\u001b[39m w\u001b[39m.\u001b[39mtag_ \u001b[39mfor\u001b[39;00m w \u001b[39min\u001b[39;00m row[\u001b[39m'\u001b[39m\u001b[39mNLP\u001b[39m\u001b[39m'\u001b[39m]}\n\u001b[0;32m----> <a href='vscode-notebook-cell:/Users/spicy.kev/Documents/github/fitzgerald_hemingway/williams_favorite_stories_analysis.ipynb#X30sZmlsZQ%3D%3D?line=3'>4</a>\u001b[0m pos_freqs \u001b[39m=\u001b[39m pd\u001b[39m.\u001b[39mSeries(row[\u001b[39m'\u001b[39;49m\u001b[39mNLP\u001b[39;49m\u001b[39m'\u001b[39;49m]\u001b[39m.\u001b[39;49mcount_by(spacy\u001b[39m.\u001b[39;49mattrs\u001b[39m.\u001b[39;49mPOS)\u001b[39m/\u001b[39;49m\u001b[39mlen\u001b[39;49m(row[\u001b[39m'\u001b[39;49m\u001b[39mNLP\u001b[39;49m\u001b[39m'\u001b[39;49m]))\n\u001b[1;32m      <a href='vscode-notebook-cell:/Users/spicy.kev/Documents/github/fitzgerald_hemingway/williams_favorite_stories_analysis.ipynb#X30sZmlsZQ%3D%3D?line=4'>5</a>\u001b[0m df\u001b[39m.\u001b[39mloc[idx, \u001b[39m'\u001b[39m\u001b[39mtext_tagDict\u001b[39m\u001b[39m'\u001b[39m] \u001b[39m=\u001b[39m \u001b[39mstr\u001b[39m(tagDict)\n\u001b[1;32m      <a href='vscode-notebook-cell:/Users/spicy.kev/Documents/github/fitzgerald_hemingway/williams_favorite_stories_analysis.ipynb#X30sZmlsZQ%3D%3D?line=5'>6</a>\u001b[0m df\u001b[39m.\u001b[39mloc[idx, \u001b[39m'\u001b[39m\u001b[39mtext_extendedTagDict\u001b[39m\u001b[39m'\u001b[39m] \u001b[39m=\u001b[39m \u001b[39mstr\u001b[39m(extendedTagDict)\n",
      "\u001b[0;31mTypeError\u001b[0m: unsupported operand type(s) for /: 'dict' and 'int'"
     ]
    }
   ],
   "source": [
    "for idx, row in df.iterrows():\n",
    "    tagDict = {w.pos: w.pos_ for w in row['NLP']}\n",
    "    extendedTagDict = {w.pos: w.pos_ + \"_\" + w.tag_ for w in row['NLP']}\n",
    "    pos_freqs = pd.Series(row['NLP'].count_by(spacy.attrs.POS)/len(row['NLP']))\n",
    "    df.loc[idx, 'text_tagDict'] = str(tagDict)\n",
    "    df.loc[idx, 'text_extendedTagDict'] = str(extendedTagDict)\n",
    "    for i, pos in enumerate(pos_freqs.index):\n",
    "        df.loc[idx, tagDict[pos]] = pos_freqs[i]\n"
   ]
  },
  {
   "cell_type": "code",
   "execution_count": 14,
   "metadata": {},
   "outputs": [],
   "source": [
    "elephants_tagDict = {w.pos: w.pos_ for w in df.loc[0, 'NLP']}\n",
    "killers_tagDict = {w.pos: w.pos_ for w in df.loc[1, 'NLP']}\n",
    "in_another_country = {w.pos: w.pos_ for w in df.loc[2, 'NLP']}\n",
    "old_man_tagDict = {w.pos: w.pos_ for w in df.loc[3, 'NLP']}"
   ]
  },
  {
   "cell_type": "code",
   "execution_count": 15,
   "metadata": {},
   "outputs": [],
   "source": [
    "elephants_extendedTagDict = {w.pos: w.pos_ + \"_\" + w.tag_ for w in df.loc[0, 'NLP']}\n",
    "killers_extendedTagDict = {w.pos: w.pos_ + \"_\" + w.tag_ for w in df.loc[1, 'NLP']}\n",
    "in_another_country_extendedTagDict = {w.pos: w.pos_ + \"_\" + w.tag_ for w in df.loc[2, 'NLP']}\n",
    "old_man_extendedTagDict = {w.pos: w.pos_ + \"_\" + w.tag_ for w in df.loc[3, 'NLP']}"
   ]
  },
  {
   "cell_type": "code",
   "execution_count": null,
   "metadata": {},
   "outputs": [],
   "source": [
    "df = pd.DataFrame([elephants_tagDict, killers_tagDict, in_another_country, old_man_tagDict], index=['fitzgerald', 'hemingway'])\n",
    "df.columns = [tagDict[column] for column in df.columns]\n",
    "df.T.plot(kind='bar')\n",
    "plt.title('All the Different Kinds of Parts of Speech', fontsize=16)"
   ]
  },
  {
   "cell_type": "code",
   "execution_count": null,
   "metadata": {},
   "outputs": [],
   "source": [
    "extendedTagDict = {w.pos: w.pos_ + \"_\" + w.tag_ for w in gatsby_nlp}"
   ]
  },
  {
   "cell_type": "code",
   "execution_count": null,
   "metadata": {},
   "outputs": [],
   "source": [
    "gatsby_POS = pd.Series(gatsby_nlp.count_by(spacy.attrs.POS))/len(gatsby_nlp)\n",
    "sun_POS = pd.Series(sun_nlp.count_by(spacy.attrs.POS))/len(sun_nlp)"
   ]
  },
  {
   "cell_type": "code",
   "execution_count": null,
   "metadata": {},
   "outputs": [],
   "source": [
    "df = pd.DataFrame([gatsby_POS, sun_POS], index=['fitzgerald', 'hemingway'])\n",
    "df.columns = [tagDict[column] for column in df.columns]\n",
    "df.T.plot(kind='bar')\n",
    "plt.title('All the Different Kinds of Parts of Speech', fontsize=16)"
   ]
  },
  {
   "cell_type": "code",
   "execution_count": null,
   "metadata": {},
   "outputs": [],
   "source": []
  },
  {
   "cell_type": "code",
   "execution_count": null,
   "metadata": {},
   "outputs": [],
   "source": [
    "df = pd.DataFrame([gatsby_POS, sun_POS], index=['fitzgerald', 'hemingway'])\n",
    "df.columns = [tagDict[column] for column in df.columns]\n",
    "df.T.plot(kind='bar')\n",
    "plt.title('All the Different Kinds of Parts of Speech', fontsize=16)"
   ]
  },
  {
   "cell_type": "code",
   "execution_count": null,
   "metadata": {},
   "outputs": [],
   "source": []
  }
 ],
 "metadata": {
  "kernelspec": {
   "display_name": "base",
   "language": "python",
   "name": "python3"
  },
  "language_info": {
   "codemirror_mode": {
    "name": "ipython",
    "version": 3
   },
   "file_extension": ".py",
   "mimetype": "text/x-python",
   "name": "python",
   "nbconvert_exporter": "python",
   "pygments_lexer": "ipython3",
   "version": "3.9.12"
  },
  "orig_nbformat": 4,
  "vscode": {
   "interpreter": {
    "hash": "19e56c70b3071a7c9e5271d6c05d63446be4cb37f733ae995dda36f1f67e797e"
   }
  }
 },
 "nbformat": 4,
 "nbformat_minor": 2
}
